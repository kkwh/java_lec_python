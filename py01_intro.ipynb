{
  "nbformat": 4,
  "nbformat_minor": 0,
  "metadata": {
    "colab": {
      "provenance": [],
      "toc_visible": true,
      "authorship_tag": "ABX9TyO6qAzV6ODHFCrruk/PI3Qc",
      "include_colab_link": true
    },
    "kernelspec": {
      "name": "python3",
      "display_name": "Python 3"
    },
    "language_info": {
      "name": "python"
    }
  },
  "cells": [
    {
      "cell_type": "markdown",
      "metadata": {
        "id": "view-in-github",
        "colab_type": "text"
      },
      "source": [
        "<a href=\"https://colab.research.google.com/github/kkwh/java_lec_python/blob/main/py01_intro.ipynb\" target=\"_parent\"><img src=\"https://colab.research.google.com/assets/colab-badge.svg\" alt=\"Open In Colab\"/></a>"
      ]
    },
    {
      "cell_type": "markdown",
      "source": [
        "# 파이썬 버전 확인"
      ],
      "metadata": {
        "id": "LKMNPepN1pr0"
      }
    },
    {
      "cell_type": "code",
      "source": [
        "!python --version"
      ],
      "metadata": {
        "colab": {
          "base_uri": "https://localhost:8080/"
        },
        "id": "jQT60wUP1tzg",
        "outputId": "93b09525-f3a5-4072-a744-d399ef5a54fc"
      },
      "execution_count": 2,
      "outputs": [
        {
          "output_type": "stream",
          "name": "stdout",
          "text": [
            "Python 3.10.12\n"
          ]
        }
      ]
    },
    {
      "cell_type": "markdown",
      "source": [
        "코드 셀에서 명령창(command prompt)에서 실행하는 명령어를 작성하고 실행할 때는 !로 시작."
      ],
      "metadata": {
        "id": "XLU2Sk342j95"
      }
    },
    {
      "cell_type": "markdown",
      "source": [
        "# 파이썬 소개"
      ],
      "metadata": {
        "id": "qZbP9udY0pdK"
      }
    },
    {
      "cell_type": "code",
      "execution_count": 6,
      "metadata": {
        "colab": {
          "base_uri": "https://localhost:8080/"
        },
        "id": "6i80ldD_xzDJ",
        "outputId": "1244b940-937e-4da7-ca59-dff8aafe68c8"
      },
      "outputs": [
        {
          "output_type": "stream",
          "name": "stdout",
          "text": [
            "안녕하세요, Python!\n"
          ]
        }
      ],
      "source": [
        "# inline comment(주석)\n",
        "print('안녕하세요, Python!') # 파이썬 문장은 세미콜론을 사용하지 않음."
      ]
    },
    {
      "cell_type": "markdown",
      "source": [
        "# 코드셀 실행 방법\n",
        "\n",
        "* 코드셀 왼쪽의 실행 버튼을 클릭\n",
        "* Ctrl+Enter: 현재 포커스가 있는 코드셀을 실행.\n",
        "* Shift+Enter: 현재 포커스가 있는 코드셀을 실행하고, 그 다음 셀로 포커스를 이동.\n",
        "  * 현재 셀 아래에 다음 셀이 없는 경우에는 새로운 코드 셀을 자동으로 만들어줌.\n",
        "* 런타임 메뉴"
      ],
      "metadata": {
        "id": "BEchF1xgZV_V"
      }
    },
    {
      "cell_type": "code",
      "source": [
        "print('hello,python!')"
      ],
      "metadata": {
        "colab": {
          "base_uri": "https://localhost:8080/"
        },
        "id": "SaC1flzBa3zs",
        "outputId": "5777beaa-c266-478e-945c-c46847df6dfa"
      },
      "execution_count": 8,
      "outputs": [
        {
          "output_type": "stream",
          "name": "stdout",
          "text": [
            "hello,python!\n"
          ]
        }
      ]
    },
    {
      "cell_type": "markdown",
      "source": [
        "# `print()` 함수"
      ],
      "metadata": {
        "id": "dVlB8OVbbShT"
      }
    },
    {
      "cell_type": "code",
      "source": [
        "print('hello','python', '안녕하세요')"
      ],
      "metadata": {
        "colab": {
          "base_uri": "https://localhost:8080/"
        },
        "id": "wNftFRXLcXDL",
        "outputId": "3a2b527f-f775-4f07-82f7-59216a4d0bc1"
      },
      "execution_count": 9,
      "outputs": [
        {
          "output_type": "stream",
          "name": "stdout",
          "text": [
            "hello python 안녕하세요\n"
          ]
        }
      ]
    },
    {
      "cell_type": "markdown",
      "source": [
        "`print()` 함수에 아규먼트를 여러 개 전달하면, 아규먼트들을 공백으로 연결해서 콘솔에 출력함."
      ],
      "metadata": {
        "id": "BMuJjxMucezL"
      }
    },
    {
      "cell_type": "markdown",
      "source": [
        "## `format() 메서드를 사용한 출력`"
      ],
      "metadata": {
        "id": "XBEhuQxMbhLD"
      }
    },
    {
      "cell_type": "code",
      "source": [
        "print('{} + {} = {}'.format(1, 2, 6))"
      ],
      "metadata": {
        "colab": {
          "base_uri": "https://localhost:8080/"
        },
        "id": "_45P-2Bxc7Wj",
        "outputId": "8742ad40-7205-466e-b2cb-9696d462cd3f"
      },
      "execution_count": 14,
      "outputs": [
        {
          "output_type": "stream",
          "name": "stdout",
          "text": [
            "1 + 2 = 6\n"
          ]
        }
      ]
    },
    {
      "cell_type": "markdown",
      "source": [
        "## formatted string을 사용한 출력\n",
        "    Python 3.6 이상의 버전에서 사용할 수 있음."
      ],
      "metadata": {
        "id": "ShxIFebddjtj"
      }
    },
    {
      "cell_type": "code",
      "source": [
        "# 변수이름 = 값\n",
        "x = 1\n",
        "y = 2\n",
        "print(f'{x} + {y} = {x + y}')"
      ],
      "metadata": {
        "colab": {
          "base_uri": "https://localhost:8080/"
        },
        "id": "9QmMH0gbd1PS",
        "outputId": "7b5099a6-71d9-4e08-ca77-7f4a04c96e0f"
      },
      "execution_count": 15,
      "outputs": [
        {
          "output_type": "stream",
          "name": "stdout",
          "text": [
            "1 + 2 = 3\n"
          ]
        }
      ]
    },
    {
      "cell_type": "markdown",
      "source": [
        "# ipynb 노트북에서의 콘솔 출력\n",
        "\n",
        "* 식(expression): 값(value), 변수, 연산, 함수 호출\n",
        "  * x, x + y, print()\n",
        "* 문장(statement): 코드의 최소 실행 단위\n",
        "  * z = x + y, result = add(x, y)\n",
        "* ipynb 노트북 코드셀에서 가장 마지막 줄에 있느 문장이 식(expression)이면, 그 식을 평가한 결과를 콘솔에 출력해 줌.\n",
        "  * 마지막 줄에서는 print() 함수를 호출하지 않아도 출력됨."
      ],
      "metadata": {
        "id": "h061-TncfC2K"
      }
    },
    {
      "cell_type": "code",
      "source": [
        "x = 1\n",
        "print(x)\n",
        "y = 2\n",
        "print(y)\n",
        "# print(x + y)\n",
        "x + y"
      ],
      "metadata": {
        "colab": {
          "base_uri": "https://localhost:8080/"
        },
        "id": "JHLz2XbNgiI5",
        "outputId": "a37ad810-9492-4dda-e82a-5ca2bc90706b"
      },
      "execution_count": 24,
      "outputs": [
        {
          "output_type": "stream",
          "name": "stdout",
          "text": [
            "1\n",
            "2\n"
          ]
        },
        {
          "output_type": "execute_result",
          "data": {
            "text/plain": [
              "3"
            ]
          },
          "metadata": {},
          "execution_count": 24
        }
      ]
    },
    {
      "cell_type": "markdown",
      "source": [],
      "metadata": {
        "id": "W5Ke4-pYghuB"
      }
    }
  ]
}