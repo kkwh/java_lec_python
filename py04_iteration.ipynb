{
  "nbformat": 4,
  "nbformat_minor": 0,
  "metadata": {
    "colab": {
      "provenance": [],
      "authorship_tag": "ABX9TyOYlxTGO4WbhfFGjq1z9+4w",
      "include_colab_link": true
    },
    "kernelspec": {
      "name": "python3",
      "display_name": "Python 3"
    },
    "language_info": {
      "name": "python"
    }
  },
  "cells": [
    {
      "cell_type": "markdown",
      "metadata": {
        "id": "view-in-github",
        "colab_type": "text"
      },
      "source": [
        "<a href=\"https://colab.research.google.com/github/kkwh/java_lec_python/blob/main/py04_iteration.ipynb\" target=\"_parent\"><img src=\"https://colab.research.google.com/assets/colab-badge.svg\" alt=\"Open In Colab\"/></a>"
      ]
    },
    {
      "cell_type": "markdown",
      "source": [
        "# for 반복문\n",
        "```\n",
        "for 변수 in iterable_type:\n",
        "    반복해서 실행할 코드 블록\n",
        "```\n",
        "\n",
        "* iterable_type: 반복가능한 타입\n",
        "    * range, list, tuple, dict, set, str, ...\n",
        "* `range()` 함수:\n",
        "    * `range(stop)`: 0 <= x < stop 범위의 1씩 증가하는 정수들을 차례로 반환.\n",
        "    * `range(start, stop)`: start <= x < stop 범위의 1씩 증가하는 정수들을\n",
        "    차례로 반환.\n",
        "    * `range(start, stop, step)`:\n",
        "        * step > 0: start <= x < stop 범위의 step 만큼씩 증가하는 정수들을 차례로 반환.\n",
        "        * step < 0:start >= x > stop 범위의 step 만큼씩 감소하는 정수들을\n",
        "        차례로 반환."
      ],
      "metadata": {
        "id": "DFH6t0vaL8bC"
      }
    },
    {
      "cell_type": "code",
      "execution_count": 1,
      "metadata": {
        "colab": {
          "base_uri": "https://localhost:8080/"
        },
        "id": "RUiSMt7xLmyB",
        "outputId": "1d824dc8-b932-45eb-b3a0-a9bfeb34215c"
      },
      "outputs": [
        {
          "output_type": "stream",
          "name": "stdout",
          "text": [
            "0\n",
            "1\n",
            "2\n",
            "3\n",
            "4\n"
          ]
        }
      ],
      "source": [
        "for x in range(5): #\n",
        "    print(x)"
      ]
    },
    {
      "cell_type": "code",
      "source": [
        "for x in range(1, 6):\n",
        "    print(x)"
      ],
      "metadata": {
        "colab": {
          "base_uri": "https://localhost:8080/"
        },
        "id": "MD0fjMjyPCei",
        "outputId": "2cccafee-e9d2-474f-e3ad-0f12e72ba6c8"
      },
      "execution_count": 2,
      "outputs": [
        {
          "output_type": "stream",
          "name": "stdout",
          "text": [
            "1\n",
            "2\n",
            "3\n",
            "4\n",
            "5\n"
          ]
        }
      ]
    },
    {
      "cell_type": "code",
      "source": [
        "for x in range(0, 11, 2): #(0, 2, 4, 6, 8, 10)\n",
        "    print(x)"
      ],
      "metadata": {
        "colab": {
          "base_uri": "https://localhost:8080/"
        },
        "id": "g8xen0XuPbCg",
        "outputId": "d84c09d1-3492-4011-9c6c-f494a33c1af3"
      },
      "execution_count": 4,
      "outputs": [
        {
          "output_type": "stream",
          "name": "stdout",
          "text": [
            "0\n",
            "2\n",
            "4\n",
            "6\n",
            "8\n",
            "10\n"
          ]
        }
      ]
    },
    {
      "cell_type": "code",
      "source": [
        "for x in range(10, 0, -2):\n",
        "    print(x)"
      ],
      "metadata": {
        "colab": {
          "base_uri": "https://localhost:8080/"
        },
        "id": "VvWJ2VUnPs1I",
        "outputId": "1c497a77-ce32-4bc2-a9fa-de42bc3f9746"
      },
      "execution_count": 5,
      "outputs": [
        {
          "output_type": "stream",
          "name": "stdout",
          "text": [
            "10\n",
            "8\n",
            "6\n",
            "4\n",
            "2\n"
          ]
        }
      ]
    },
    {
      "cell_type": "markdown",
      "source": [
        "# 중첩 반복문\n",
        "\n",
        "```\n",
        "for x in iterable1:\n",
        "    for y in iterable2:\n",
        "        코드 블록\n",
        "```"
      ],
      "metadata": {
        "id": "8iTwacBfQWVw"
      }
    },
    {
      "cell_type": "code",
      "source": [
        "for x in range(2, 10, 1):\n",
        "    for y in range(1, 10, 1):\n",
        "        print(f'{x} * {y} = {x * y}')\n",
        "    print('-' * 10)"
      ],
      "metadata": {
        "colab": {
          "base_uri": "https://localhost:8080/"
        },
        "id": "C5pe81orQf_p",
        "outputId": "27b9ef65-bd81-40a2-cf50-942f654f2b48"
      },
      "execution_count": 14,
      "outputs": [
        {
          "output_type": "stream",
          "name": "stdout",
          "text": [
            "2 * 1 = 2\n",
            "2 * 2 = 4\n",
            "2 * 3 = 6\n",
            "2 * 4 = 8\n",
            "2 * 5 = 10\n",
            "2 * 6 = 12\n",
            "2 * 7 = 14\n",
            "2 * 8 = 16\n",
            "2 * 9 = 18\n",
            "----------\n",
            "3 * 1 = 3\n",
            "3 * 2 = 6\n",
            "3 * 3 = 9\n",
            "3 * 4 = 12\n",
            "3 * 5 = 15\n",
            "3 * 6 = 18\n",
            "3 * 7 = 21\n",
            "3 * 8 = 24\n",
            "3 * 9 = 27\n",
            "----------\n",
            "4 * 1 = 4\n",
            "4 * 2 = 8\n",
            "4 * 3 = 12\n",
            "4 * 4 = 16\n",
            "4 * 5 = 20\n",
            "4 * 6 = 24\n",
            "4 * 7 = 28\n",
            "4 * 8 = 32\n",
            "4 * 9 = 36\n",
            "----------\n",
            "5 * 1 = 5\n",
            "5 * 2 = 10\n",
            "5 * 3 = 15\n",
            "5 * 4 = 20\n",
            "5 * 5 = 25\n",
            "5 * 6 = 30\n",
            "5 * 7 = 35\n",
            "5 * 8 = 40\n",
            "5 * 9 = 45\n",
            "----------\n",
            "6 * 1 = 6\n",
            "6 * 2 = 12\n",
            "6 * 3 = 18\n",
            "6 * 4 = 24\n",
            "6 * 5 = 30\n",
            "6 * 6 = 36\n",
            "6 * 7 = 42\n",
            "6 * 8 = 48\n",
            "6 * 9 = 54\n",
            "----------\n",
            "7 * 1 = 7\n",
            "7 * 2 = 14\n",
            "7 * 3 = 21\n",
            "7 * 4 = 28\n",
            "7 * 5 = 35\n",
            "7 * 6 = 42\n",
            "7 * 7 = 49\n",
            "7 * 8 = 56\n",
            "7 * 9 = 63\n",
            "----------\n",
            "8 * 1 = 8\n",
            "8 * 2 = 16\n",
            "8 * 3 = 24\n",
            "8 * 4 = 32\n",
            "8 * 5 = 40\n",
            "8 * 6 = 48\n",
            "8 * 7 = 56\n",
            "8 * 8 = 64\n",
            "8 * 9 = 72\n",
            "----------\n",
            "9 * 1 = 9\n",
            "9 * 2 = 18\n",
            "9 * 3 = 27\n",
            "9 * 4 = 36\n",
            "9 * 5 = 45\n",
            "9 * 6 = 54\n",
            "9 * 7 = 63\n",
            "9 * 8 = 72\n",
            "9 * 9 = 81\n",
            "----------\n"
          ]
        }
      ]
    },
    {
      "cell_type": "markdown",
      "source": [
        "문자열에서 사용 가능한 산술 연산자:\n",
        "\n",
        "* 문자열 `+` 문자열: 문자열 이어붙이기(concatenate)\n",
        "* 문자열 `*` 정수: 문자열 (정수만큼) 반복해서 복사하기"
      ],
      "metadata": {
        "id": "hHlAvGToTGl_"
      }
    },
    {
      "cell_type": "markdown",
      "source": [
        "# break와 continue\n",
        "\n",
        "  * `break`: 반복(iteration)을 종료. break가 포함된 가장 가까운 반복문을 빠져나옴.\n",
        "  * `continue`: 반복문 내부의 실행을 멈추고, 그 다음 iteration을 계속해서 수행."
      ],
      "metadata": {
        "id": "N_2dfryjT5mn"
      }
    },
    {
      "cell_type": "code",
      "source": [
        "for x in range(5):\n",
        "      if x == 2:\n",
        "          break\n",
        "      print(x)"
      ],
      "metadata": {
        "colab": {
          "base_uri": "https://localhost:8080/"
        },
        "id": "xlFAc-9yUeSW",
        "outputId": "53bd96b2-27b1-4241-f420-f58e5b3c4951"
      },
      "execution_count": 21,
      "outputs": [
        {
          "output_type": "stream",
          "name": "stdout",
          "text": [
            "0\n",
            "1\n"
          ]
        }
      ]
    },
    {
      "cell_type": "code",
      "source": [
        "for x in range(5):\n",
        "      if x == 2:\n",
        "          continue\n",
        "      print(x)"
      ],
      "metadata": {
        "colab": {
          "base_uri": "https://localhost:8080/"
        },
        "id": "wbjBxteeVVil",
        "outputId": "bdd8acad-c9d6-46ad-9b0c-7ebc8df45c74"
      },
      "execution_count": 22,
      "outputs": [
        {
          "output_type": "stream",
          "name": "stdout",
          "text": [
            "0\n",
            "1\n",
            "3\n",
            "4\n"
          ]
        }
      ]
    },
    {
      "cell_type": "markdown",
      "source": [
        "다음과 같이 출력.\n",
        "```\n",
        "2 x 1 = 2\n",
        "2 x 2 = 4\n",
        "----------\n",
        "3 x 1 = 3\n",
        "3 x 2 = 6\n",
        "3 x 3 = 9\n",
        "----------\n",
        "...\n",
        "----------\n",
        "5 x 1 = 5\n",
        "...\n",
        "5 x 5 = 25\n",
        "```"
      ],
      "metadata": {
        "id": "NKCYMFznWSYV"
      }
    },
    {
      "cell_type": "code",
      "source": [
        "for x in range(2, 6):\n",
        "    for y in range(1, x + 1):\n",
        "        print(f'{x} * {y} = {x * y}')\n",
        "    print('-' * 10)"
      ],
      "metadata": {
        "colab": {
          "base_uri": "https://localhost:8080/"
        },
        "id": "MYh2NjUTWdsm",
        "outputId": "9b7c6c85-99e7-4342-a3b4-1ecc53e848cd"
      },
      "execution_count": 24,
      "outputs": [
        {
          "output_type": "stream",
          "name": "stdout",
          "text": [
            "2 * 1 = 2\n",
            "2 * 2 = 4\n",
            "----------\n",
            "3 * 1 = 3\n",
            "3 * 2 = 6\n",
            "3 * 3 = 9\n",
            "----------\n",
            "4 * 1 = 4\n",
            "4 * 2 = 8\n",
            "4 * 3 = 12\n",
            "4 * 4 = 16\n",
            "----------\n",
            "5 * 1 = 5\n",
            "5 * 2 = 10\n",
            "5 * 3 = 15\n",
            "5 * 4 = 20\n",
            "5 * 5 = 25\n",
            "----------\n"
          ]
        }
      ]
    },
    {
      "cell_type": "markdown",
      "source": [
        "# while 반복문\n",
        "\n",
        "```\n",
        "[초기화 문장]\n",
        "while 조건식:\n",
        "    반복할 코드 블록\n",
        "    [조건(변수)를 변경하는 문장]\n",
        "```\n"
      ],
      "metadata": {
        "id": "y2wUutjddLEr"
      }
    },
    {
      "cell_type": "markdown",
      "source": [
        "다음과 같이 출력하는 코드를 while 문으로 작성\n",
        "\n",
        "*\n",
        "**\n",
        "***\n",
        "****\n",
        "*****"
      ],
      "metadata": {
        "id": "k_-89FffeWty"
      }
    },
    {
      "cell_type": "code",
      "source": [
        "n = 1\n",
        "while n <= 5:\n",
        "      print('*' * n)\n",
        "      n += 1"
      ],
      "metadata": {
        "colab": {
          "base_uri": "https://localhost:8080/"
        },
        "id": "AZWTi2YYdrND",
        "outputId": "af2b0eb5-41cb-4027-dd19-afaa255b588d"
      },
      "execution_count": 38,
      "outputs": [
        {
          "output_type": "stream",
          "name": "stdout",
          "text": [
            "*\n",
            "**\n",
            "***\n",
            "****\n",
            "*****\n"
          ]
        }
      ]
    },
    {
      "cell_type": "markdown",
      "source": [
        "1 이상 10 미만의 홀수들을 출력하는 코드를 while 문으로 작성.\n"
      ],
      "metadata": {
        "id": "P5Dn7MGtga5K"
      }
    },
    {
      "cell_type": "code",
      "source": [
        "n = 1\n",
        "while n < 10:\n",
        "      print(n)\n",
        "      n += 2"
      ],
      "metadata": {
        "colab": {
          "base_uri": "https://localhost:8080/"
        },
        "id": "FFTDpAmYgfpq",
        "outputId": "1849ce92-30bd-442e-d39d-b41e1923d1af"
      },
      "execution_count": 42,
      "outputs": [
        {
          "output_type": "stream",
          "name": "stdout",
          "text": [
            "1\n",
            "3\n",
            "5\n",
            "7\n",
            "9\n"
          ]
        }
      ]
    }
  ]
}