{
  "nbformat": 4,
  "nbformat_minor": 0,
  "metadata": {
    "colab": {
      "provenance": [],
      "authorship_tag": "ABX9TyNchZNbf4iXMf0OcyjzXa6N",
      "include_colab_link": true
    },
    "kernelspec": {
      "name": "python3",
      "display_name": "Python 3"
    },
    "language_info": {
      "name": "python"
    }
  },
  "cells": [
    {
      "cell_type": "markdown",
      "metadata": {
        "id": "view-in-github",
        "colab_type": "text"
      },
      "source": [
        "<a href=\"https://colab.research.google.com/github/kkwh/java_lec_python/blob/main/py05_list.ipynb\" target=\"_parent\"><img src=\"https://colab.research.google.com/assets/colab-badge.svg\" alt=\"Open In Colab\"/></a>"
      ]
    },
    {
      "cell_type": "markdown",
      "source": [
        "# list\n",
        "\n",
        "* 여러 개의 값들을 하나의 변수에 저장하기 위한 데이터 타입.\n",
        "* element(원소, 요소): 리스트에 저장되는 각각의 값.\n",
        "* index(인덱스): 리스트에서 원소가 저장된 위치\n",
        "    * 리스트의 인덱스는 **부터 시작.\n",
        "    * 리스트의 마지막 인덱스는 (원소 개수 - 1).\n",
        "* 리스트는 원소들을 추가, 삭제, 변경할 수 있음.\n",
        "    * `tuple`과 다른 점!\n"
      ],
      "metadata": {
        "id": "tXK09Kd5hyQy"
      }
    },
    {
      "cell_type": "code",
      "execution_count": 1,
      "metadata": {
        "colab": {
          "base_uri": "https://localhost:8080/"
        },
        "id": "7mCHJ8_hhkJN",
        "outputId": "9d6fe220-1d76-478e-ab08-25e245ce12e5"
      },
      "outputs": [
        {
          "output_type": "execute_result",
          "data": {
            "text/plain": [
              "[1, 2, 3, 10, 20, 30]"
            ]
          },
          "metadata": {},
          "execution_count": 1
        }
      ],
      "source": [
        "# 숫자들을 저장하는 리스트\n",
        "numbers = [1, 2, 3, 10, 20, 30]\n",
        "numbers"
      ]
    },
    {
      "cell_type": "markdown",
      "source": [
        "인덱싱(indexing)\n",
        "인덱스를 사용해서 리스트의 원소를 참조하는 방법."
      ],
      "metadata": {
        "id": "bdanv4R-nnzv"
      }
    },
    {
      "cell_type": "code",
      "source": [
        "numbers[0] # 리스트 numbers의 인덱스 0 위치의 원소"
      ],
      "metadata": {
        "id": "PMF4aIkTn60Y"
      },
      "execution_count": null,
      "outputs": []
    },
    {
      "cell_type": "code",
      "source": [
        "numbers[5] # 리스트 numbers의 인덱스 5 위치의 원소"
      ],
      "metadata": {
        "id": "u-sgpLK4oGVm"
      },
      "execution_count": null,
      "outputs": []
    },
    {
      "cell_type": "code",
      "source": [
        "numbers[-1] # 리스트에서 가장 마지막 원소"
      ],
      "metadata": {
        "colab": {
          "base_uri": "https://localhost:8080/"
        },
        "id": "odVbCYSXoXlw",
        "outputId": "20f5cd8f-5878-4555-a84c-2ebc3804daab"
      },
      "execution_count": 2,
      "outputs": [
        {
          "output_type": "execute_result",
          "data": {
            "text/plain": [
              "30"
            ]
          },
          "metadata": {},
          "execution_count": 2
        }
      ]
    },
    {
      "cell_type": "markdown",
      "source": [
        "# slicing\n",
        "\n",
        "인덱스를 사용해서 리스트의 부분집합(리스트)를 잘라내는 방법.\n",
        "\n",
        "`list[start:end]`\n",
        "\n",
        "* start <= index < end 범위의 인덱스 위치의 원소들을 잘라냄.\n",
        "* start를 생략한 경우에는 첫번쨰 원소부터 잘라냄.\n",
        "    * `list[0:5]`과 `list[:5]`는 같은 결과.\n",
        "* end를 생략한 경우에는 마지막 원소까지 잘라냄.\n",
        "* 리스트를 slicing한 결과는 또다른 새로운 **리스트**"
      ],
      "metadata": {
        "id": "MdUB4DrAqYhG"
      }
    },
    {
      "cell_type": "code",
      "source": [
        "numbers"
      ],
      "metadata": {
        "id": "ZA2j79fjsnxU"
      },
      "execution_count": null,
      "outputs": []
    },
    {
      "cell_type": "code",
      "source": [
        "numbers[1:4]"
      ],
      "metadata": {
        "colab": {
          "base_uri": "https://localhost:8080/"
        },
        "id": "A4s_jTmTsoK0",
        "outputId": "d1c29d46-211e-44d8-c697-ed6851ac2bd9"
      },
      "execution_count": 5,
      "outputs": [
        {
          "output_type": "execute_result",
          "data": {
            "text/plain": [
              "[2, 3, 10]"
            ]
          },
          "metadata": {},
          "execution_count": 5
        }
      ]
    },
    {
      "cell_type": "code",
      "source": [
        "numbers[3:6]"
      ],
      "metadata": {
        "colab": {
          "base_uri": "https://localhost:8080/"
        },
        "id": "NwyQrrizsohF",
        "outputId": "bf2c011d-348c-440f-c1f3-eabe6c6419cc"
      },
      "execution_count": 4,
      "outputs": [
        {
          "output_type": "execute_result",
          "data": {
            "text/plain": [
              "[10, 20, 30]"
            ]
          },
          "metadata": {},
          "execution_count": 4
        }
      ]
    },
    {
      "cell_type": "code",
      "source": [
        "numbers[3:]"
      ],
      "metadata": {
        "colab": {
          "base_uri": "https://localhost:8080/"
        },
        "id": "ToHqRSwNssfs",
        "outputId": "d2a84487-3180-409a-942b-fdce3768a5c4"
      },
      "execution_count": 3,
      "outputs": [
        {
          "output_type": "execute_result",
          "data": {
            "text/plain": [
              "[10, 20, 30]"
            ]
          },
          "metadata": {},
          "execution_count": 3
        }
      ]
    },
    {
      "cell_type": "code",
      "source": [
        "numbers[:3] # 리스트에서 앞에서 3개를 선택"
      ],
      "metadata": {
        "colab": {
          "base_uri": "https://localhost:8080/"
        },
        "id": "gGlvgLx7tYbN",
        "outputId": "2bfeaf7e-d667-4a34-d637-81ce4f93fda1"
      },
      "execution_count": 6,
      "outputs": [
        {
          "output_type": "execute_result",
          "data": {
            "text/plain": [
              "[1, 2, 3]"
            ]
          },
          "metadata": {},
          "execution_count": 6
        }
      ]
    },
    {
      "cell_type": "code",
      "source": [
        "numbers[-3:] # 리스트에서 뒤에서 3개를 선택"
      ],
      "metadata": {
        "colab": {
          "base_uri": "https://localhost:8080/"
        },
        "id": "6Fd4D1f6tnC2",
        "outputId": "b953b507-92e5-40f0-e530-c55514ebd9c1"
      },
      "execution_count": 10,
      "outputs": [
        {
          "output_type": "execute_result",
          "data": {
            "text/plain": [
              "[10, 20, 30]"
            ]
          },
          "metadata": {},
          "execution_count": 10
        }
      ]
    },
    {
      "cell_type": "code",
      "source": [
        "numbers[0:1] # slicing -> 리스트"
      ],
      "metadata": {
        "colab": {
          "base_uri": "https://localhost:8080/"
        },
        "id": "YHHWiRKyuOjs",
        "outputId": "6138ec14-3633-4725-b7c9-45eb0356be36"
      },
      "execution_count": 8,
      "outputs": [
        {
          "output_type": "execute_result",
          "data": {
            "text/plain": [
              "[1]"
            ]
          },
          "metadata": {},
          "execution_count": 8
        }
      ]
    },
    {
      "cell_type": "code",
      "source": [
        "numbers[0] # indexing -> 값(숫자)"
      ],
      "metadata": {
        "colab": {
          "base_uri": "https://localhost:8080/"
        },
        "id": "iYutr9LVugzz",
        "outputId": "6115a6de-4b9a-4a97-d62b-113845517999"
      },
      "execution_count": 9,
      "outputs": [
        {
          "output_type": "execute_result",
          "data": {
            "text/plain": [
              "1"
            ]
          },
          "metadata": {},
          "execution_count": 9
        }
      ]
    },
    {
      "cell_type": "markdown",
      "source": [
        "# 문자열(str)\n",
        "\n",
        "* 문자들의 *리스트*.\n",
        "* 문자열은 인덱스를 사용할 수 있음\n",
        "* indexing, slicing 가능."
      ],
      "metadata": {
        "id": "gJthaqLgvDqU"
      }
    },
    {
      "cell_type": "code",
      "source": [
        "message = '안녕하세요, 여러분!' # 11개의 문자들로 이루어진 리스트."
      ],
      "metadata": {
        "id": "Lmj3PpvHvfeT"
      },
      "execution_count": 13,
      "outputs": []
    },
    {
      "cell_type": "code",
      "source": [
        "message[0] # 문자열에서 첫번째 문자"
      ],
      "metadata": {
        "colab": {
          "base_uri": "https://localhost:8080/",
          "height": 35
        },
        "id": "pSC1Ku0Tv8Zk",
        "outputId": "7ebcda49-2268-4a55-c1a7-c50be5345212"
      },
      "execution_count": 16,
      "outputs": [
        {
          "output_type": "execute_result",
          "data": {
            "text/plain": [
              "'안'"
            ],
            "application/vnd.google.colaboratory.intrinsic+json": {
              "type": "string"
            }
          },
          "metadata": {},
          "execution_count": 16
        }
      ]
    },
    {
      "cell_type": "code",
      "source": [
        "message[-1] # 문자열에서 마지막 문자"
      ],
      "metadata": {
        "colab": {
          "base_uri": "https://localhost:8080/",
          "height": 35
        },
        "id": "zSsoNWp7v_sT",
        "outputId": "8bc8ae10-4a07-4ee7-ee90-145019a67b9c"
      },
      "execution_count": 14,
      "outputs": [
        {
          "output_type": "execute_result",
          "data": {
            "text/plain": [
              "'!'"
            ],
            "application/vnd.google.colaboratory.intrinsic+json": {
              "type": "string"
            }
          },
          "metadata": {},
          "execution_count": 14
        }
      ]
    },
    {
      "cell_type": "code",
      "source": [
        "message[:3] # 문자열에서 앞에서 3글자"
      ],
      "metadata": {
        "colab": {
          "base_uri": "https://localhost:8080/",
          "height": 35
        },
        "id": "VEAbdLpnwOas",
        "outputId": "003695df-c2bf-4132-e82e-6ad73a3ec4cb"
      },
      "execution_count": 17,
      "outputs": [
        {
          "output_type": "execute_result",
          "data": {
            "text/plain": [
              "'안녕하'"
            ],
            "application/vnd.google.colaboratory.intrinsic+json": {
              "type": "string"
            }
          },
          "metadata": {},
          "execution_count": 17
        }
      ]
    },
    {
      "cell_type": "code",
      "source": [
        "message[-3] # 문자열에서 뒤에서 3글자"
      ],
      "metadata": {
        "id": "FihjIJUTwdJr"
      },
      "execution_count": null,
      "outputs": []
    },
    {
      "cell_type": "code",
      "source": [
        "# 문자열 산술 연산: +, *\n",
        "print('hello' + 'python')\n",
        "print('hello' * 3)"
      ],
      "metadata": {
        "colab": {
          "base_uri": "https://localhost:8080/"
        },
        "id": "O7B61U5nxNcT",
        "outputId": "14f2a130-9f11-4513-b78f-44c5b2527b6f"
      },
      "execution_count": 20,
      "outputs": [
        {
          "output_type": "stream",
          "name": "stdout",
          "text": [
            "hellopython\n",
            "hellohellohello\n"
          ]
        }
      ]
    },
    {
      "cell_type": "markdown",
      "source": [
        "# 리스트의 산술 연산\n",
        "\n",
        "* `list + list`\n",
        "* `list * int` 또는 `int * list`"
      ],
      "metadata": {
        "id": "HRBuxhYzxN4U"
      }
    },
    {
      "cell_type": "code",
      "source": [
        "[1, 2, 3] + [4, 5, 6] # concatenate"
      ],
      "metadata": {
        "colab": {
          "base_uri": "https://localhost:8080/"
        },
        "id": "qoTCDl6cxfJr",
        "outputId": "f9d58ba7-e36d-4802-cc5f-28920624b9ec"
      },
      "execution_count": 18,
      "outputs": [
        {
          "output_type": "execute_result",
          "data": {
            "text/plain": [
              "[1, 2, 3, 4, 5, 6]"
            ]
          },
          "metadata": {},
          "execution_count": 18
        }
      ]
    },
    {
      "cell_type": "code",
      "source": [
        "[1, 2, 3] * 3"
      ],
      "metadata": {
        "colab": {
          "base_uri": "https://localhost:8080/"
        },
        "id": "EZxrMQl1xwfs",
        "outputId": "e37a62ac-7aa0-4d3c-ff9e-54911410962f"
      },
      "execution_count": 19,
      "outputs": [
        {
          "output_type": "execute_result",
          "data": {
            "text/plain": [
              "[1, 2, 3, 1, 2, 3, 1, 2, 3]"
            ]
          },
          "metadata": {},
          "execution_count": 19
        }
      ]
    },
    {
      "cell_type": "code",
      "source": [
        "for x in message:\n",
        "    print(x)"
      ],
      "metadata": {
        "colab": {
          "base_uri": "https://localhost:8080/"
        },
        "id": "-SM7voZS2aMA",
        "outputId": "244f2f5b-0c67-4144-f373-29b29cf99cc5"
      },
      "execution_count": 22,
      "outputs": [
        {
          "output_type": "stream",
          "name": "stdout",
          "text": [
            "안\n",
            "녕\n",
            "하\n",
            "세\n",
            "요\n",
            ",\n",
            " \n",
            "여\n",
            "러\n",
            "분\n",
            "!\n"
          ]
        }
      ]
    },
    {
      "cell_type": "code",
      "source": [
        "numbers = [1, 10, 5, 100]\n",
        "for x in numbers:\n",
        "    print(x)"
      ],
      "metadata": {
        "colab": {
          "base_uri": "https://localhost:8080/"
        },
        "id": "oZpnjWuC2nZw",
        "outputId": "90ac9c46-e3b9-47dd-e270-3269b42fa6cf"
      },
      "execution_count": 23,
      "outputs": [
        {
          "output_type": "stream",
          "name": "stdout",
          "text": [
            "1\n",
            "10\n",
            "5\n",
            "100\n"
          ]
        }
      ]
    },
    {
      "cell_type": "code",
      "source": [
        "i = 0\n",
        "while i < len(numbers):"
      ],
      "metadata": {
        "id": "gV8lZbcY3T9Y"
      },
      "execution_count": null,
      "outputs": []
    },
    {
      "cell_type": "code",
      "source": [
        "for x in range(len(numbers)):\n",
        "    print(x, ':' ,numbers[x])"
      ],
      "metadata": {
        "colab": {
          "base_uri": "https://localhost:8080/"
        },
        "id": "7Nri12G83pqR",
        "outputId": "87ab7142-dd45-4d35-9567-dd4e6a9134d7"
      },
      "execution_count": 26,
      "outputs": [
        {
          "output_type": "stream",
          "name": "stdout",
          "text": [
            "0 : 1\n",
            "1 : 10\n",
            "2 : 5\n",
            "3 : 100\n"
          ]
        }
      ]
    },
    {
      "cell_type": "code",
      "source": [
        "for i, v in enumerate(numbers):\n",
        "    print(i, ':' , v)"
      ],
      "metadata": {
        "colab": {
          "base_uri": "https://localhost:8080/"
        },
        "id": "b673JbP84SnQ",
        "outputId": "ab55efc1-dc3d-48f5-aed4-6f4c3de4d284"
      },
      "execution_count": 29,
      "outputs": [
        {
          "output_type": "stream",
          "name": "stdout",
          "text": [
            "0 1\n",
            "1 10\n",
            "2 5\n",
            "3 100\n"
          ]
        }
      ]
    },
    {
      "cell_type": "code",
      "source": [
        "numbers1 = [1, 2, 3]\n",
        "numbers2 = [10, 11, 12]\n",
        "# numbers1과 numbers2의 같은 인덱스의 원소들끼리의 합을 원소로 갖는 리스트\n",
        "#[11, 13, 15]\n",
        "result = []\n",
        "for n in range(0, len(numbers1)):\n",
        "    result.append(numbers1[n] + numbers2[n])\n",
        "print(result)"
      ],
      "metadata": {
        "colab": {
          "base_uri": "https://localhost:8080/"
        },
        "id": "9XZogrpF56b3",
        "outputId": "feabc0e2-4a73-489a-c292-f12580ae12a9"
      },
      "execution_count": 37,
      "outputs": [
        {
          "output_type": "stream",
          "name": "stdout",
          "text": [
            "[11, 13, 15]\n"
          ]
        }
      ]
    },
    {
      "cell_type": "code",
      "source": [
        "result = []\n",
        "for x, y in zip(numbers1, numbers2):\n",
        "    result.append(x + y)\n",
        "result"
      ],
      "metadata": {
        "colab": {
          "base_uri": "https://localhost:8080/"
        },
        "id": "p4JNAWwS8jGG",
        "outputId": "c1efa7b6-377f-4518-c273-82d9ac4ecc3f"
      },
      "execution_count": 38,
      "outputs": [
        {
          "output_type": "execute_result",
          "data": {
            "text/plain": [
              "[11, 13, 15]"
            ]
          },
          "metadata": {},
          "execution_count": 38
        }
      ]
    },
    {
      "cell_type": "markdown",
      "source": [
        "파이썬에 난수를 만드는 방법."
      ],
      "metadata": {
        "id": "SOGp3vKv-Dw-"
      }
    },
    {
      "cell_type": "code",
      "source": [
        "import random # random 모듈을 임포트"
      ],
      "metadata": {
        "id": "byTEC3_Q-GPv"
      },
      "execution_count": 41,
      "outputs": []
    },
    {
      "cell_type": "code",
      "source": [
        "# random 모듈의 random() 함수를 호출\n",
        "random.random() # [0, 1) 범위(0 <= x < 1)의 실수 난수를 리턴."
      ],
      "metadata": {
        "colab": {
          "base_uri": "https://localhost:8080/"
        },
        "id": "o92hdwxG-UN-",
        "outputId": "8a5243c4-f424-4401-affd-85821b33fe14"
      },
      "execution_count": 42,
      "outputs": [
        {
          "output_type": "execute_result",
          "data": {
            "text/plain": [
              "0.7549753170413218"
            ]
          },
          "metadata": {},
          "execution_count": 42
        }
      ]
    },
    {
      "cell_type": "code",
      "source": [
        "# random 모듈의 randrange() 함수를 호출\n",
        "random.randrange(10) #[0, 10) 범위의 정수 난수를 리턴."
      ],
      "metadata": {
        "colab": {
          "base_uri": "https://localhost:8080/"
        },
        "id": "BgdhQ67v_Dhe",
        "outputId": "6ff0f7bd-ff38-465f-def7-a95bfcb763a2"
      },
      "execution_count": 48,
      "outputs": [
        {
          "output_type": "execute_result",
          "data": {
            "text/plain": [
              "6"
            ]
          },
          "metadata": {},
          "execution_count": 48
        }
      ]
    },
    {
      "cell_type": "code",
      "source": [
        "random.randrange(3) #[0, 3) 범위의 정수 난수를 리턴."
      ],
      "metadata": {
        "colab": {
          "base_uri": "https://localhost:8080/"
        },
        "id": "P5cxN5wF_gKE",
        "outputId": "13ba0715-8798-4fc4-e350-92f01c72e55b"
      },
      "execution_count": 57,
      "outputs": [
        {
          "output_type": "execute_result",
          "data": {
            "text/plain": [
              "2"
            ]
          },
          "metadata": {},
          "execution_count": 57
        }
      ]
    },
    {
      "cell_type": "code",
      "source": [
        "random.randrange(1, 4) #[1, 4) 범위의 정수 난수를 리턴."
      ],
      "metadata": {
        "id": "iOpHKWPx_qF1"
      },
      "execution_count": null,
      "outputs": []
    },
    {
      "cell_type": "markdown",
      "source": [
        "# Exercises"
      ],
      "metadata": {
        "id": "zej-wmN9Cg1N"
      }
    },
    {
      "cell_type": "markdown",
      "source": [
        "Ex 1.\n",
        "빈 리스트를 생성.\n",
        "1 이상 10 이하의 정수 난수 5개를 저장.\n",
        "리스트의 모든 정수들의 합을 출력.\n",
        "리스트의 모든 정수들의 평균을 출력.\n",
        "\n",
        "Ex 2.\n",
        "빈 리스트(numbers)를 생성.\n",
        "10 이상, 100 미만의 정수 난수 10개를 numbers에 저장.\n",
        "numbers에서 짝수들만 선택해서 evens 리스트를 만들고 출력.\n",
        "numbers에서 홀수들만 선택해서 odds 리스트를 만들고 출력.\n",
        "\n",
        "Ex 3.\n",
        "빈 리스트 numbers를 만듦.\n",
        "-10 이상 10 이하인 범위의 정수 난수 10개를 numbers에 저장.\n",
        "numbers의 원소가 양수이면 True, 그렇지 않으면 False를 저장하는 is_positive 리스트를 만들고 출력.\n",
        "\n",
        "Ex 4.\n",
        "gender_codes 리스트에 0 또는 1을 랜덤하게 10개를 저장.\n",
        "gender_codes의 값이 0이면 'Male', 그렇지 않으며 'Female'을 저장하는 genders 리스트를 만들고 출력.\n",
        "\n",
        "Ex 5.\n",
        "numbers1: 100 미만의 정수 난수 10개를 저장하는 리스트.\n",
        "numbers2: 100 미만의 정수 난수 10개를 저장하는 리스트.\n",
        "multiplication: numbers1과 numbers2의 같은 인덱스에 있는 원소들끼리의 곱셈 결과를 저장하는 리스트.\n",
        "subtraction: numbers1의 원소에서 같은 인덱스에 있는 numbers2의 원소를 뺀 값을 저장하는 리스트.\n",
        "numbers1, numbers2, multiplication, subtraction를 출력."
      ],
      "metadata": {
        "id": "Uep3RcyKCi5M"
      }
    },
    {
      "cell_type": "code",
      "source": [
        "# Ex 1.\n",
        "result = []\n",
        "sum = 0\n",
        "for x in range(5):\n",
        "    result.append(random.randrange(1, 11))\n",
        "    sum += result[x]\n",
        "print('result: ', result)\n",
        "print('총합: ', sum)\n",
        "print('평균: ', sum / 5)"
      ],
      "metadata": {
        "colab": {
          "base_uri": "https://localhost:8080/"
        },
        "id": "-MvP7r98Cyq0",
        "outputId": "7400c6ff-5413-49b7-e94f-eb6c80a562f5"
      },
      "execution_count": 65,
      "outputs": [
        {
          "output_type": "stream",
          "name": "stdout",
          "text": [
            "result:  [10, 5, 1, 4, 6]\n",
            "총합:  26\n",
            "평균:  5.2\n"
          ]
        }
      ]
    },
    {
      "cell_type": "code",
      "source": [
        "# Ex 2.\n",
        "result = []\n",
        "evens = []\n",
        "odds = []\n",
        "for x in range(10):\n",
        "    result.append(random.randrange(10, 100))\n",
        "    if(result[x] % 2 == 0):\n",
        "        evens.append(result[x])\n",
        "    else:\n",
        "        odds.append(result[x])\n",
        "print('evens: ', evens)\n",
        "print('odds: ', odds)"
      ],
      "metadata": {
        "colab": {
          "base_uri": "https://localhost:8080/"
        },
        "id": "7ATQjAtnEC8E",
        "outputId": "32f2c622-c31e-445a-a511-5cd10de371f8"
      },
      "execution_count": 75,
      "outputs": [
        {
          "output_type": "stream",
          "name": "stdout",
          "text": [
            "evens:  [82, 74, 42, 62, 62]\n",
            "odds:  [81, 75, 65, 67, 95]\n"
          ]
        }
      ]
    },
    {
      "cell_type": "code",
      "source": [
        "# Ex 3.\n",
        "numbers = []\n",
        "is_positive = []\n",
        "for x in range(10):\n",
        "    numbers.append(random.randrange(-10, 11))\n",
        "    if(numbers[x] >= 0):\n",
        "        is_positive.append(True)\n",
        "    else:\n",
        "        is_positive.append(False)\n",
        "print('is_positive: ', is_positive)"
      ],
      "metadata": {
        "colab": {
          "base_uri": "https://localhost:8080/"
        },
        "id": "ZfZ3H48zE7mb",
        "outputId": "94dd8b11-e8ca-4352-cc71-9cea26359763"
      },
      "execution_count": 106,
      "outputs": [
        {
          "output_type": "stream",
          "name": "stdout",
          "text": [
            "is_positive:  [True, True, True, True, True, True, True, False, True, True]\n"
          ]
        }
      ]
    },
    {
      "cell_type": "code",
      "source": [
        "# Ex 4.\n",
        "gender_codes = []\n",
        "genders = []\n",
        "for x in range(10):\n",
        "    gender_codes.append(random.randrange(0, 2))\n",
        "    if(gender_codes[x] == 0):\n",
        "        genders.append('Male')\n",
        "    else:\n",
        "        genders.append('Female')\n",
        "print('genders: ', genders)"
      ],
      "metadata": {
        "colab": {
          "base_uri": "https://localhost:8080/"
        },
        "id": "PfuvDOykFt6j",
        "outputId": "1b6d9f93-7c22-4327-8919-418359077f32"
      },
      "execution_count": 87,
      "outputs": [
        {
          "output_type": "stream",
          "name": "stdout",
          "text": [
            "genders:  ['Male', 'Female', 'Male', 'Female', 'Female', 'Male', 'Male', 'Male', 'Male', 'Female']\n"
          ]
        }
      ]
    },
    {
      "cell_type": "code",
      "source": [
        "# Ex 5.\n",
        "numbers1 = []\n",
        "numbers2 = []\n",
        "multiplication = [] # 곱\n",
        "subtraction = [] # 차\n",
        "\n",
        "for n in range(10):\n",
        "    numbers1.append(random.randrange(100))\n",
        "    numbers2.append(random.randrange(100))\n",
        "for x, y in zip(numbers1, numbers2):\n",
        "    multiplication.append(x * y)\n",
        "    subtraction.append(x - y)\n",
        "\n",
        "print('numbers1: ', numbers1)\n",
        "print('numbers2: ', numbers2)\n",
        "print('multiplication: ', multiplication)\n",
        "print('subtraction: ', subtraction)\n"
      ],
      "metadata": {
        "colab": {
          "base_uri": "https://localhost:8080/"
        },
        "id": "xSh1Kvu2GoDi",
        "outputId": "c347aede-f79b-4662-df6d-079da8bb0440"
      },
      "execution_count": 89,
      "outputs": [
        {
          "output_type": "stream",
          "name": "stdout",
          "text": [
            "numbers1:  [60, 69, 66, 42, 79, 81, 85, 3, 96, 62]\n",
            "numbers2:  [59, 94, 12, 41, 22, 97, 52, 75, 44, 18]\n",
            "multiplication:  [3540, 6486, 792, 1722, 1738, 7857, 4420, 225, 4224, 1116]\n",
            "subtraction:  [1, -25, 54, 1, 57, -16, 33, -72, 52, 44]\n"
          ]
        }
      ]
    }
  ]
}