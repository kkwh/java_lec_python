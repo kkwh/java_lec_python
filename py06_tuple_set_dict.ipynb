{
  "nbformat": 4,
  "nbformat_minor": 0,
  "metadata": {
    "colab": {
      "provenance": [],
      "authorship_tag": "ABX9TyO+u8RkKrep+1Cp48PFytra",
      "include_colab_link": true
    },
    "kernelspec": {
      "name": "python3",
      "display_name": "Python 3"
    },
    "language_info": {
      "name": "python"
    }
  },
  "cells": [
    {
      "cell_type": "markdown",
      "metadata": {
        "id": "view-in-github",
        "colab_type": "text"
      },
      "source": [
        "<a href=\"https://colab.research.google.com/github/kkwh/java_lec_python/blob/main/py06_tuple_set_dict.ipynb\" target=\"_parent\"><img src=\"https://colab.research.google.com/assets/colab-badge.svg\" alt=\"Open In Colab\"/></a>"
      ]
    },
    {
      "cell_type": "markdown",
      "source": [
        "# tuple(튜플)\n",
        "\n",
        "* 하나의 변수에 여러 개의 값들을 저장하기 위한 자료 타입.\n",
        "* 저장된 원소(아이템)들을 변경할 수 없는 리스트.\n",
        "* 인덱스 기반 자료 타입\n",
        "    * `append(), `remove()`와 같은 원소를 변경하는 메서드(기능)은 제공하지 않음\n",
        "* 인덱스 기반 자료 타입.\n",
        "    * indexing, slicing\n",
        "    * 음수 인덱스도 사용 가능"
      ],
      "metadata": {
        "id": "2nGFCm01W2CZ"
      }
    },
    {
      "cell_type": "code",
      "execution_count": 1,
      "metadata": {
        "colab": {
          "base_uri": "https://localhost:8080/"
        },
        "id": "k34FbSPmWhBJ",
        "outputId": "51bfeb59-7d39-4c7f-cd51-4e20a8d0b64e"
      },
      "outputs": [
        {
          "output_type": "execute_result",
          "data": {
            "text/plain": [
              "(1, 2, 10, 20, 100, 200)"
            ]
          },
          "metadata": {},
          "execution_count": 1
        }
      ],
      "source": [
        "# 숫자들을 저장하는 튜플\n",
        "numbers = (1, 2, 10, 20, 100, 200)\n",
        "numbers"
      ]
    },
    {
      "cell_type": "code",
      "source": [
        "type(numbers)"
      ],
      "metadata": {
        "colab": {
          "base_uri": "https://localhost:8080/"
        },
        "id": "WBt4y4PmYh5A",
        "outputId": "559f32c1-ca3c-44c9-99d2-3dc919fe4e74"
      },
      "execution_count": 2,
      "outputs": [
        {
          "output_type": "execute_result",
          "data": {
            "text/plain": [
              "tuple"
            ]
          },
          "metadata": {},
          "execution_count": 2
        }
      ]
    },
    {
      "cell_type": "markdown",
      "source": [
        "indexing: 인덱스를 사용해서 원소 1개를 참조하는 방법"
      ],
      "metadata": {
        "id": "9GrotGVCYxcf"
      }
    },
    {
      "cell_type": "code",
      "source": [
        "numbers[0] # 튜플의 첫번째 원소"
      ],
      "metadata": {
        "colab": {
          "base_uri": "https://localhost:8080/"
        },
        "id": "x6dd_CsBYjlH",
        "outputId": "140fb3d6-bfd6-454d-9852-e53b30697be3"
      },
      "execution_count": 4,
      "outputs": [
        {
          "output_type": "execute_result",
          "data": {
            "text/plain": [
              "1"
            ]
          },
          "metadata": {},
          "execution_count": 4
        }
      ]
    },
    {
      "cell_type": "code",
      "source": [
        "numbers[-1] # 튜플의 마지막 원소"
      ],
      "metadata": {
        "id": "eJwE8s8BZMr2"
      },
      "execution_count": null,
      "outputs": []
    },
    {
      "cell_type": "code",
      "source": [
        "numbers[:3]  # 튜플에서 첫 3개의 원소들을 잘라내기."
      ],
      "metadata": {
        "colab": {
          "base_uri": "https://localhost:8080/"
        },
        "id": "ktZGKWjBZeWu",
        "outputId": "cab66320-a8ea-4308-90dd-89c46126b836"
      },
      "execution_count": 5,
      "outputs": [
        {
          "output_type": "execute_result",
          "data": {
            "text/plain": [
              "(1, 2, 10)"
            ]
          },
          "metadata": {},
          "execution_count": 5
        }
      ]
    },
    {
      "cell_type": "code",
      "source": [
        "numbers[-3:] # 튜플에서 마지막 3개의 원소들을 잘라내기."
      ],
      "metadata": {
        "id": "qmc7D89EZuTP"
      },
      "execution_count": null,
      "outputs": []
    },
    {
      "cell_type": "markdown",
      "source": [
        "decomposition(분해)"
      ],
      "metadata": {
        "id": "1i1KkfQQaNsG"
      }
    },
    {
      "cell_type": "code",
      "source": [
        "odds = (1, 3, 5)\n",
        "a = odds[0]\n",
        "b = odds[1]\n",
        "c = odds[2]\n",
        "print(a, b, c)"
      ],
      "metadata": {
        "colab": {
          "base_uri": "https://localhost:8080/"
        },
        "id": "5pmBrhhAaRMX",
        "outputId": "ee797780-66f3-4367-a87f-ee1f4de5fd9d"
      },
      "execution_count": 6,
      "outputs": [
        {
          "output_type": "stream",
          "name": "stdout",
          "text": [
            "1 3 5\n"
          ]
        }
      ]
    },
    {
      "cell_type": "code",
      "source": [
        "x, y = (1, 3, 5)\n",
        "print(x, y, z)"
      ],
      "metadata": {
        "colab": {
          "base_uri": "https://localhost:8080/"
        },
        "id": "HDcvK51WaH82",
        "outputId": "e2b01b81-3dec-44a1-dfc1-fb5d29d35a40"
      },
      "execution_count": 7,
      "outputs": [
        {
          "output_type": "stream",
          "name": "stdout",
          "text": [
            "1 3\n"
          ]
        }
      ]
    },
    {
      "cell_type": "markdown",
      "source": [
        "tuple & for"
      ],
      "metadata": {
        "id": "OSXb1NXibOVF"
      }
    },
    {
      "cell_type": "code",
      "source": [
        "for x in odds:\n",
        "    print(x)"
      ],
      "metadata": {
        "colab": {
          "base_uri": "https://localhost:8080/"
        },
        "id": "k3BYdyH-bYw-",
        "outputId": "2cff87c1-9e18-414e-8894-4c9a3fd225b9"
      },
      "execution_count": 8,
      "outputs": [
        {
          "output_type": "stream",
          "name": "stdout",
          "text": [
            "1\n",
            "3\n",
            "5\n"
          ]
        }
      ]
    },
    {
      "cell_type": "markdown",
      "source": [
        "# 2차원 리스트/튜플"
      ],
      "metadata": {
        "id": "35wV0SarcE39"
      }
    },
    {
      "cell_type": "code",
      "source": [
        "numbers = [\n",
        "    [1, 2, 3],\n",
        "    [4, 5, 6]\n",
        "]\n",
        "numbers"
      ],
      "metadata": {
        "colab": {
          "base_uri": "https://localhost:8080/"
        },
        "id": "HmezQjaRc1-t",
        "outputId": "d99bb2bf-3d97-4a34-e176-9353f4320f57"
      },
      "execution_count": 9,
      "outputs": [
        {
          "output_type": "execute_result",
          "data": {
            "text/plain": [
              "[[1, 2, 3], [4, 5, 6]]"
            ]
          },
          "metadata": {},
          "execution_count": 9
        }
      ]
    },
    {
      "cell_type": "code",
      "source": [
        "len(numbers) # 2차원 리스트 numbers의 원소 개수"
      ],
      "metadata": {
        "id": "DWmFgdB9dJCt"
      },
      "execution_count": null,
      "outputs": []
    },
    {
      "cell_type": "code",
      "source": [
        "numbers[0]"
      ],
      "metadata": {
        "colab": {
          "base_uri": "https://localhost:8080/"
        },
        "id": "SSFGkXmQdekt",
        "outputId": "28724378-b2d4-4120-d4d7-9c580a3f78f6"
      },
      "execution_count": 10,
      "outputs": [
        {
          "output_type": "execute_result",
          "data": {
            "text/plain": [
              "[1, 2, 3]"
            ]
          },
          "metadata": {},
          "execution_count": 10
        }
      ]
    },
    {
      "cell_type": "code",
      "source": [
        "numbers[0][0]"
      ],
      "metadata": {
        "colab": {
          "base_uri": "https://localhost:8080/"
        },
        "id": "rkIz6HJwdtol",
        "outputId": "3f920a50-3664-4f26-8a5c-1bd85d7551b6"
      },
      "execution_count": 11,
      "outputs": [
        {
          "output_type": "execute_result",
          "data": {
            "text/plain": [
              "1"
            ]
          },
          "metadata": {},
          "execution_count": 11
        }
      ]
    },
    {
      "cell_type": "markdown",
      "source": [
        "Ex.\n",
        "1. 2x2 모양의 [0,10) 범위의 정수 난수들을 저장하는 2차원 리스트 array1을 만드세요.\n",
        "2. 2x2 모양의 [0,10) 범위의 정수 난수들을 저장하는 2차원 리스트 array2을 만드세요.\n",
        "3. array1과 array2의 같은 인덱스의 원소들끼리의 덧셈 결과를 저장하는 2차원 리스트 add를 만들고 출력하세요."
      ],
      "metadata": {
        "id": "LPf9auepeB1l"
      }
    },
    {
      "cell_type": "code",
      "source": [
        "import random\n",
        "\n",
        "array1 = [\n",
        "    [random.randrange(10) for x in range(2)],\n",
        "    [random.randrange(10) for x in range(2)]\n",
        "]\n",
        "\n",
        "array2 = [\n",
        "    [random.randrange(10) for x in range(2)],\n",
        "    [random.randrange(10) for x in range(2)]\n",
        "]\n",
        "\n",
        "add = [[x + y for x, y in zip(array1, array2)]\n",
        "              for array1, array2 in zip(array1, array2)]\n",
        "\n",
        "\n",
        "print('array1: ', array1)\n",
        "print('array2: ', array2)\n",
        "print('add: ', add)"
      ],
      "metadata": {
        "colab": {
          "base_uri": "https://localhost:8080/"
        },
        "id": "6GzvlrO4ef0k",
        "outputId": "5dbfb121-cf38-4557-8ee1-458085b43041"
      },
      "execution_count": 28,
      "outputs": [
        {
          "output_type": "stream",
          "name": "stdout",
          "text": [
            "array1:  [[4, 6], [1, 7]]\n",
            "array2:  [[6, 0], [6, 5]]\n",
            "add:  [[10, 6], [7, 12]]\n"
          ]
        }
      ]
    },
    {
      "cell_type": "markdown",
      "source": [
        "#Set(집합)\n",
        "\n",
        "* 중복된 데이터를 허용하지 않음:`{1, 2, 2, 3, 3} = {1, 2, 3}`\n",
        "* 인덱스 기반의 자료 구조가 아님. 인덱스가 없음.\n",
        "    * 데이터의 저장 순서가 중요하지 않음: `{1, 2, 3} = {3, 1, 2}`\n",
        "    * indexing, slicing 기능을 제공하지 않음.\n",
        "    * for-in 구문에서 사용할 수 있는 iterable 타입."
      ],
      "metadata": {
        "id": "0TwInCoNqSIo"
      }
    },
    {
      "cell_type": "code",
      "source": [
        "s = {1, 2, 2, 3, 3}\n",
        "s"
      ],
      "metadata": {
        "colab": {
          "base_uri": "https://localhost:8080/"
        },
        "id": "w3B0GfUfrTBP",
        "outputId": "cfc566a7-a254-48f0-ea14-4245d310039a"
      },
      "execution_count": 33,
      "outputs": [
        {
          "output_type": "execute_result",
          "data": {
            "text/plain": [
              "{1, 2, 3}"
            ]
          },
          "metadata": {},
          "execution_count": 33
        }
      ]
    },
    {
      "cell_type": "code",
      "source": [
        "type(s)"
      ],
      "metadata": {
        "colab": {
          "base_uri": "https://localhost:8080/"
        },
        "id": "7FUQGWG-rxlH",
        "outputId": "5a9dafa9-24aa-460a-9839-cbd3ae832bb5"
      },
      "execution_count": 34,
      "outputs": [
        {
          "output_type": "execute_result",
          "data": {
            "text/plain": [
              "set"
            ]
          },
          "metadata": {},
          "execution_count": 34
        }
      ]
    },
    {
      "cell_type": "code",
      "source": [
        "s.add(5) # set에 원소 추가\n",
        "s"
      ],
      "metadata": {
        "colab": {
          "base_uri": "https://localhost:8080/"
        },
        "id": "7LK3cOfYrzwu",
        "outputId": "9746c1ba-888d-4fd3-b105-0a0f66fe8935"
      },
      "execution_count": 35,
      "outputs": [
        {
          "output_type": "execute_result",
          "data": {
            "text/plain": [
              "{1, 2, 3, 5}"
            ]
          },
          "metadata": {},
          "execution_count": 35
        }
      ]
    },
    {
      "cell_type": "code",
      "source": [
        "s.remove(3) # set의 원소를 삭제. 삭제할 원소를 아규먼트로 전달.\n",
        "s"
      ],
      "metadata": {
        "colab": {
          "base_uri": "https://localhost:8080/"
        },
        "id": "w0e8y7voshjX",
        "outputId": "7622369c-167f-4b10-f3e3-4a33003eedfd"
      },
      "execution_count": 36,
      "outputs": [
        {
          "output_type": "execute_result",
          "data": {
            "text/plain": [
              "{1, 2, 5}"
            ]
          },
          "metadata": {},
          "execution_count": 36
        }
      ]
    },
    {
      "cell_type": "code",
      "source": [
        "s.pop()\n",
        "s"
      ],
      "metadata": {
        "colab": {
          "base_uri": "https://localhost:8080/"
        },
        "id": "VS0gZlISskBv",
        "outputId": "1fcf3097-3a32-4aaf-b9d2-a78a84fc4f05"
      },
      "execution_count": 39,
      "outputs": [
        {
          "output_type": "execute_result",
          "data": {
            "text/plain": [
              "set()"
            ]
          },
          "metadata": {},
          "execution_count": 39
        }
      ]
    },
    {
      "cell_type": "code",
      "source": [
        "s1 = {1, 2, 3, 4}\n",
        "s2 = {2, 3, 5, 6}"
      ],
      "metadata": {
        "id": "NEAYz5j0tamY"
      },
      "execution_count": 41,
      "outputs": []
    },
    {
      "cell_type": "code",
      "source": [
        "s1.union(s2) #합집합"
      ],
      "metadata": {
        "colab": {
          "base_uri": "https://localhost:8080/"
        },
        "id": "3qdSY6bEtfqn",
        "outputId": "c3d3eae9-e3f9-44b2-ddf5-21f983f36773"
      },
      "execution_count": 43,
      "outputs": [
        {
          "output_type": "execute_result",
          "data": {
            "text/plain": [
              "{1, 2, 3, 4, 5, 6}"
            ]
          },
          "metadata": {},
          "execution_count": 43
        }
      ]
    },
    {
      "cell_type": "code",
      "source": [
        "s1.intersection(s2)"
      ],
      "metadata": {
        "colab": {
          "base_uri": "https://localhost:8080/"
        },
        "id": "nJTKb7D3toPP",
        "outputId": "8551477b-8214-48f1-a464-539b4121b3d2"
      },
      "execution_count": 44,
      "outputs": [
        {
          "output_type": "execute_result",
          "data": {
            "text/plain": [
              "{2, 3}"
            ]
          },
          "metadata": {},
          "execution_count": 44
        }
      ]
    },
    {
      "cell_type": "code",
      "source": [
        "s1.difference(s2) # 차집합: s1 - s2"
      ],
      "metadata": {
        "colab": {
          "base_uri": "https://localhost:8080/"
        },
        "id": "-5IehlWttrJn",
        "outputId": "8f52ed33-b504-416a-c9f7-da29a919622b"
      },
      "execution_count": 46,
      "outputs": [
        {
          "output_type": "execute_result",
          "data": {
            "text/plain": [
              "{1, 4}"
            ]
          },
          "metadata": {},
          "execution_count": 46
        }
      ]
    },
    {
      "cell_type": "code",
      "source": [
        "s2.difference(s1) # 차집합: s2 - s1"
      ],
      "metadata": {
        "colab": {
          "base_uri": "https://localhost:8080/"
        },
        "id": "4hvBAxoVt_I2",
        "outputId": "66430f80-957c-4c7f-c689-9b5f9ef19180"
      },
      "execution_count": 47,
      "outputs": [
        {
          "output_type": "execute_result",
          "data": {
            "text/plain": [
              "{5, 6}"
            ]
          },
          "metadata": {},
          "execution_count": 47
        }
      ]
    },
    {
      "cell_type": "markdown",
      "source": [
        "# dict\n",
        "\n",
        "* dictionary(사전) 형식의 데이터 타입.\n",
        "* 키(key)를 기반으로 값(value)를 저장하는 데이터타입.\n",
        "    * list, tuple: 인덱스 기반의 데이터 타입.\n",
        "    * dict: key-value 기반의 데이터 타입.\n",
        "    * dict에서 key의 역할은 1개 아이템의 값(value)를 찾기 위한 용도."
      ],
      "metadata": {
        "id": "zCSyVHpuyJwF"
      }
    },
    {
      "cell_type": "code",
      "source": [
        "students = {1: '홍길동', 2: '허균', 3: '오쌤'}\n",
        "students"
      ],
      "metadata": {
        "colab": {
          "base_uri": "https://localhost:8080/"
        },
        "id": "G6P363ZRziBU",
        "outputId": "fbe47ff2-5aff-42a9-9e70-c27c76dcc464"
      },
      "execution_count": 48,
      "outputs": [
        {
          "output_type": "execute_result",
          "data": {
            "text/plain": [
              "{1: '홍길동', 2: '허균', 3: '오쌤'}"
            ]
          },
          "metadata": {},
          "execution_count": 48
        }
      ]
    },
    {
      "cell_type": "code",
      "source": [
        "type(students)"
      ],
      "metadata": {
        "colab": {
          "base_uri": "https://localhost:8080/"
        },
        "id": "W_QGrDpazzaU",
        "outputId": "6082779f-453b-4dac-b881-22db00715fc3"
      },
      "execution_count": 49,
      "outputs": [
        {
          "output_type": "execute_result",
          "data": {
            "text/plain": [
              "dict"
            ]
          },
          "metadata": {},
          "execution_count": 49
        }
      ]
    },
    {
      "cell_type": "markdown",
      "source": [
        "`dict`에서 키를 사용하는 방법은 `list` 또는 `tuple`과 마찬가지로 인덱스 연산자(`[]`)를 사용함."
      ],
      "metadata": {
        "id": "5-eplaMy0Rzu"
      }
    },
    {
      "cell_type": "code",
      "source": [
        "students[1] # dict에서 key가 1인 아이템의 value"
      ],
      "metadata": {
        "colab": {
          "base_uri": "https://localhost:8080/",
          "height": 35
        },
        "id": "FJGSGzKN0rDL",
        "outputId": "d08bb26c-12c5-4ec3-cffd-334145b97d77"
      },
      "execution_count": 50,
      "outputs": [
        {
          "output_type": "execute_result",
          "data": {
            "text/plain": [
              "'홍길동'"
            ],
            "application/vnd.google.colaboratory.intrinsic+json": {
              "type": "string"
            }
          },
          "metadata": {},
          "execution_count": 50
        }
      ]
    },
    {
      "cell_type": "code",
      "source": [
        "students[10] = '홍길동' # dict에서 새로운 key-value 아이템을 추가\n",
        "students"
      ],
      "metadata": {
        "colab": {
          "base_uri": "https://localhost:8080/"
        },
        "id": "oAC1SV-J1LWD",
        "outputId": "95c9a7b3-4dd3-4578-c884-e471cd9947df"
      },
      "execution_count": 51,
      "outputs": [
        {
          "output_type": "execute_result",
          "data": {
            "text/plain": [
              "{1: '홍길동', 2: '허균', 3: '오쌤', 10: '홍길동'}"
            ]
          },
          "metadata": {},
          "execution_count": 51
        }
      ]
    },
    {
      "cell_type": "code",
      "source": [
        "students[3] = 'scott'\n",
        "students"
      ],
      "metadata": {
        "colab": {
          "base_uri": "https://localhost:8080/"
        },
        "id": "7S3dE_EH1Vo7",
        "outputId": "d71a6b6e-3278-4cbe-ad51-b8a1e4bdbb8a"
      },
      "execution_count": 54,
      "outputs": [
        {
          "output_type": "execute_result",
          "data": {
            "text/plain": [
              "{1: '홍길동', 2: '허균', 3: 'scott', 10: '홍길동'}"
            ]
          },
          "metadata": {},
          "execution_count": 54
        }
      ]
    },
    {
      "cell_type": "code",
      "source": [
        "students.pop(3) # dict에서 해당하는 key의 아이템(key: value)을 삭제\n",
        "students"
      ],
      "metadata": {
        "colab": {
          "base_uri": "https://localhost:8080/",
          "height": 193
        },
        "id": "J7cLCCQa2GC7",
        "outputId": "5321e17c-8a4c-4fee-a2f2-c7dd4bbe2730"
      },
      "execution_count": 58,
      "outputs": [
        {
          "output_type": "error",
          "ename": "KeyError",
          "evalue": "ignored",
          "traceback": [
            "\u001b[0;31m---------------------------------------------------------------------------\u001b[0m",
            "\u001b[0;31mKeyError\u001b[0m                                  Traceback (most recent call last)",
            "\u001b[0;32m<ipython-input-58-d5b196fe6846>\u001b[0m in \u001b[0;36m<cell line: 1>\u001b[0;34m()\u001b[0m\n\u001b[0;32m----> 1\u001b[0;31m \u001b[0mstudents\u001b[0m\u001b[0;34m.\u001b[0m\u001b[0mpop\u001b[0m\u001b[0;34m(\u001b[0m\u001b[0;36m3\u001b[0m\u001b[0;34m)\u001b[0m \u001b[0;31m# dict에서 해당하는 key의 아이템(key: value)을 삭제\u001b[0m\u001b[0;34m\u001b[0m\u001b[0;34m\u001b[0m\u001b[0m\n\u001b[0m\u001b[1;32m      2\u001b[0m \u001b[0mstudents\u001b[0m\u001b[0;34m\u001b[0m\u001b[0;34m\u001b[0m\u001b[0m\n",
            "\u001b[0;31mKeyError\u001b[0m: 3"
          ]
        }
      ]
    },
    {
      "cell_type": "code",
      "source": [
        "book = {\n",
        "    'title': '점프 투 파이썬',\n",
        "    'authors': ['박응용', '웨스 매키니'],\n",
        "    'isbn': 123456789\n",
        "}\n",
        "book"
      ],
      "metadata": {
        "colab": {
          "base_uri": "https://localhost:8080/"
        },
        "id": "rBAcT-IU2ura",
        "outputId": "e3332174-92c5-4920-ab1b-e9dd22676eb2"
      },
      "execution_count": 59,
      "outputs": [
        {
          "output_type": "execute_result",
          "data": {
            "text/plain": [
              "{'title': '점프 투 파이썬', 'authors': ['박응용', '웨스 매키니'], 'isbn': 123456789}"
            ]
          },
          "metadata": {},
          "execution_count": 59
        }
      ]
    },
    {
      "cell_type": "code",
      "source": [
        "book['title']"
      ],
      "metadata": {
        "colab": {
          "base_uri": "https://localhost:8080/",
          "height": 35
        },
        "id": "mAlRC7LG3W37",
        "outputId": "785f4d6f-008e-4d69-f920-07a8530fdb21"
      },
      "execution_count": 60,
      "outputs": [
        {
          "output_type": "execute_result",
          "data": {
            "text/plain": [
              "'점프 투 파이썬'"
            ],
            "application/vnd.google.colaboratory.intrinsic+json": {
              "type": "string"
            }
          },
          "metadata": {},
          "execution_count": 60
        }
      ]
    },
    {
      "cell_type": "code",
      "source": [
        "book['authors'][0]"
      ],
      "metadata": {
        "colab": {
          "base_uri": "https://localhost:8080/",
          "height": 35
        },
        "id": "pj2rTD3X3vvK",
        "outputId": "a4bcd08e-59b5-4d0d-aba6-baa6ead60d21"
      },
      "execution_count": 61,
      "outputs": [
        {
          "output_type": "execute_result",
          "data": {
            "text/plain": [
              "'박응용'"
            ],
            "application/vnd.google.colaboratory.intrinsic+json": {
              "type": "string"
            }
          },
          "metadata": {},
          "execution_count": 61
        }
      ]
    },
    {
      "cell_type": "markdown",
      "source": [
        "dict & for"
      ],
      "metadata": {
        "id": "7AO7eDSS36rM"
      }
    },
    {
      "cell_type": "code",
      "source": [
        "contact = {\n",
        "    'no': 1,\n",
        "    'name': '오쌤',\n",
        "    'phone': ['010-0000-0000', '02-0000-0000'],\n",
        "    'emails': {\n",
        "        'company': 'jake@itwill.co.kr',\n",
        "        'personal': 'jake@naver.com'\n",
        "    }\n",
        "}\n",
        "contact"
      ],
      "metadata": {
        "colab": {
          "base_uri": "https://localhost:8080/"
        },
        "id": "cT7FjLQh38zM",
        "outputId": "e0f796ac-2eae-48d0-e7e7-3b982f2f2e53"
      },
      "execution_count": 63,
      "outputs": [
        {
          "output_type": "execute_result",
          "data": {
            "text/plain": [
              "{'no': 1,\n",
              " 'name': '오쌤',\n",
              " 'phone': ['010-0000-0000', '02-0000-0000'],\n",
              " 'emails': {'company': 'jake@itwill.co.kr', 'personal': 'jake@naver.com'}}"
            ]
          },
          "metadata": {},
          "execution_count": 63
        }
      ]
    },
    {
      "cell_type": "code",
      "source": [
        "for k in contact:\n",
        "    print(k)"
      ],
      "metadata": {
        "colab": {
          "base_uri": "https://localhost:8080/"
        },
        "id": "rDLuCcd44iVb",
        "outputId": "4826c3ff-6060-44f3-b8e7-14e45b15f5c9"
      },
      "execution_count": 67,
      "outputs": [
        {
          "output_type": "stream",
          "name": "stdout",
          "text": [
            "no\n",
            "name\n",
            "phone\n",
            "emails\n"
          ]
        }
      ]
    },
    {
      "cell_type": "markdown",
      "source": [
        "for-in 구문에서 dict를 사용하면 키(key)를 iterarion함!"
      ],
      "metadata": {
        "id": "xkKz4LKL416z"
      }
    },
    {
      "cell_type": "code",
      "source": [
        "for k in contact:\n",
        "    print(k, ':', contact[k])"
      ],
      "metadata": {
        "colab": {
          "base_uri": "https://localhost:8080/"
        },
        "id": "j9zmvQh65AuJ",
        "outputId": "8303eb89-5647-4a52-9ff3-884b05b6a8b2"
      },
      "execution_count": 68,
      "outputs": [
        {
          "output_type": "stream",
          "name": "stdout",
          "text": [
            "no : 1\n",
            "name : 오쌤\n",
            "phone : ['010-0000-0000', '02-0000-0000']\n",
            "emails : {'company': 'jake@itwill.co.kr', 'personal': 'jake@naver.com'}\n"
          ]
        }
      ]
    },
    {
      "cell_type": "code",
      "source": [
        "contact.keys() #dict의 key들의 리스트를 리턴."
      ],
      "metadata": {
        "colab": {
          "base_uri": "https://localhost:8080/"
        },
        "id": "_xZrvGU15kDq",
        "outputId": "37531310-fe58-4ba4-c45e-e782d7112adf"
      },
      "execution_count": 69,
      "outputs": [
        {
          "output_type": "execute_result",
          "data": {
            "text/plain": [
              "dict_keys(['no', 'name', 'phone', 'emails'])"
            ]
          },
          "metadata": {},
          "execution_count": 69
        }
      ]
    },
    {
      "cell_type": "code",
      "source": [
        "contact.values() # dict value들의 리스트를 리턴."
      ],
      "metadata": {
        "colab": {
          "base_uri": "https://localhost:8080/"
        },
        "id": "-avcCyZ55yeZ",
        "outputId": "0fa058c8-7836-462a-808c-3ba9845eae6d"
      },
      "execution_count": 70,
      "outputs": [
        {
          "output_type": "execute_result",
          "data": {
            "text/plain": [
              "dict_values([1, '오쌤', ['010-0000-0000', '02-0000-0000'], {'company': 'jake@itwill.co.kr', 'personal': 'jake@naver.com'}])"
            ]
          },
          "metadata": {},
          "execution_count": 70
        }
      ]
    },
    {
      "cell_type": "code",
      "source": [
        "contact.items()\n",
        "# dict에서 (key, value) 튜플들의 리스트를 리턴."
      ],
      "metadata": {
        "colab": {
          "base_uri": "https://localhost:8080/"
        },
        "id": "pizwRLYO6Bai",
        "outputId": "1899a7f2-44df-4741-c5a5-a19449597ce3"
      },
      "execution_count": 71,
      "outputs": [
        {
          "output_type": "execute_result",
          "data": {
            "text/plain": [
              "dict_items([('no', 1), ('name', '오쌤'), ('phone', ['010-0000-0000', '02-0000-0000']), ('emails', {'company': 'jake@itwill.co.kr', 'personal': 'jake@naver.com'})])"
            ]
          },
          "metadata": {},
          "execution_count": 71
        }
      ]
    },
    {
      "cell_type": "code",
      "source": [
        "for k, v in contact.items():\n",
        "    print(k, v)"
      ],
      "metadata": {
        "colab": {
          "base_uri": "https://localhost:8080/"
        },
        "id": "donjar2w65fr",
        "outputId": "bd2abdc8-f97e-430d-d634-5e6e9a6824a1"
      },
      "execution_count": 74,
      "outputs": [
        {
          "output_type": "stream",
          "name": "stdout",
          "text": [
            "no 1\n",
            "name 오쌤\n",
            "phone ['010-0000-0000', '02-0000-0000']\n",
            "emails {'company': 'jake@itwill.co.kr', 'personal': 'jake@naver.com'}\n"
          ]
        }
      ]
    },
    {
      "cell_type": "code",
      "source": [
        "emp_no = [1001, 1002, 2001, 2002] # 직원 번호\n",
        "emp_name = ['King', 'Scott', 'Allen', 'Tiger'] # 직원 이름"
      ],
      "metadata": {
        "id": "mnL9A3-y_avo"
      },
      "execution_count": 76,
      "outputs": []
    },
    {
      "cell_type": "code",
      "source": [
        "# emp_no를 key로 하고 emp_no을 value로 하는 dict를 만들고 출력\n",
        "# 리스트의 원소 개수만큼 반복\n",
        "# dict에 key-value 아이템을 저장\n",
        "emp_dict = {eno: ename for eno, ename in zip(emp_no, emp_name)}\n",
        "emp_dict"
      ],
      "metadata": {
        "colab": {
          "base_uri": "https://localhost:8080/"
        },
        "id": "30AtP_wy_pjn",
        "outputId": "192159f8-3668-4466-9263-1a44394051e5"
      },
      "execution_count": 82,
      "outputs": [
        {
          "output_type": "execute_result",
          "data": {
            "text/plain": [
              "{1001: 'King', 1002: 'Scott', 2001: 'Allen', 2002: 'Tiger'}"
            ]
          },
          "metadata": {},
          "execution_count": 82
        }
      ]
    },
    {
      "cell_type": "code",
      "source": [
        "emp = {} # key-value를 저장할 빈 dict\n",
        "for no, name in zip(emp_no, emp_name): # 리스트의 원소 개수만큼 반복\n",
        "    emp[no] = name  # dict에 key-value 아이템을 저장\n",
        "emp"
      ],
      "metadata": {
        "colab": {
          "base_uri": "https://localhost:8080/"
        },
        "id": "fseOS9nmBRce",
        "outputId": "66e6ff3b-429b-4954-af3e-5073f0ab6537"
      },
      "execution_count": 84,
      "outputs": [
        {
          "output_type": "execute_result",
          "data": {
            "text/plain": [
              "{1001: 'King', 1002: 'Scott', 2001: 'Allen', 2002: 'Tiger'}"
            ]
          },
          "metadata": {},
          "execution_count": 84
        }
      ]
    },
    {
      "cell_type": "code",
      "source": [
        "strings = ['hello', 'java', 'sql', 'python', 'javascript']\n",
        "# 리스트 strings의 문자열을 키로 하고, 그 문자열의 길이를 값으로 하는 dict를 만들고 출력\n",
        "# strings_dict = {str: leng for str, leng in zip(strings, len(strings)) }\n",
        "# strings_dict"
      ],
      "metadata": {
        "id": "zY0DoMSuCZQG"
      },
      "execution_count": 93,
      "outputs": []
    },
    {
      "cell_type": "code",
      "source": [
        "string_length = dict()\n",
        "for s in strings: # strings에서 원소들을 차례로 반복하면서\n",
        "    string_length[s] = len(s)\n",
        "string_length"
      ],
      "metadata": {
        "colab": {
          "base_uri": "https://localhost:8080/"
        },
        "id": "56YAGamGDUyw",
        "outputId": "d0e53b98-4bb9-451e-aa3e-ff8c6a5624fc"
      },
      "execution_count": 98,
      "outputs": [
        {
          "output_type": "execute_result",
          "data": {
            "text/plain": [
              "{'hello': 5, 'java': 4, 'sql': 3, 'python': 6, 'javascript': 10}"
            ]
          },
          "metadata": {},
          "execution_count": 98
        }
      ]
    },
    {
      "cell_type": "code",
      "source": [
        "{k: len(k) for k in strings}"
      ],
      "metadata": {
        "colab": {
          "base_uri": "https://localhost:8080/"
        },
        "id": "6_F9pxlNEAM-",
        "outputId": "713a7e20-1f23-431c-aa7c-c29cf6252b86"
      },
      "execution_count": 99,
      "outputs": [
        {
          "output_type": "execute_result",
          "data": {
            "text/plain": [
              "{'hello': 5, 'java': 4, 'sql': 3, 'python': 6, 'javascript': 10}"
            ]
          },
          "metadata": {},
          "execution_count": 99
        }
      ]
    }
  ]
}