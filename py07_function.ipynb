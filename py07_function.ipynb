{
  "nbformat": 4,
  "nbformat_minor": 0,
  "metadata": {
    "colab": {
      "provenance": [],
      "authorship_tag": "ABX9TyNkR1q/VSN2SCRGTks2+uDf",
      "include_colab_link": true
    },
    "kernelspec": {
      "name": "python3",
      "display_name": "Python 3"
    },
    "language_info": {
      "name": "python"
    }
  },
  "cells": [
    {
      "cell_type": "markdown",
      "metadata": {
        "id": "view-in-github",
        "colab_type": "text"
      },
      "source": [
        "<a href=\"https://colab.research.google.com/github/kkwh/java_lec_python/blob/main/py07_function.ipynb\" target=\"_parent\"><img src=\"https://colab.research.google.com/assets/colab-badge.svg\" alt=\"Open In Colab\"/></a>"
      ]
    },
    {
      "cell_type": "markdown",
      "source": [
        "# Function(함수)"
      ],
      "metadata": {
        "id": "lai1ZuRIFU11"
      }
    },
    {
      "cell_type": "markdown",
      "source": [
        "* function(함수): 기능을 수행하는 코드 블록.\n",
        "* argument: 함수를 호출하는 곳에서 함수에게 전달하는 값.\n",
        "* parameter: argument를 저장하기 위해서 함수 선언부에서 선언하는 지역 변수.\n",
        "* return value: 함수가 기능의 수행 결과로 리턴하는 값.\n",
        "    * return value가 있는 함수\n",
        "    * return value가 없는 함수\n",
        "* 파이썬 함수 정의 방법:\n",
        "    ```\n",
        "    def function_name([param, ...]):\n",
        "        [\"\"\"문서화 주석 - 함수 기능 설명, 파라미터 설명, 리턴 값 설명\"\"\"]\n",
        "        함수 기능 구현\n",
        "        [return 값]\n",
        "    ```\n",
        "* return value가 없는 경우에,\n",
        "    * return 문장을 생략.\n",
        "    * return None 명시할 수도 있음."
      ],
      "metadata": {
        "id": "AvVRZ7YKFHrm"
      }
    },
    {
      "cell_type": "code",
      "source": [
        "def subtract(x, y):\n",
        "    \"\"\"2개의 숫자 x, y를 전달받아서 x-y 결과를 리턴하는 함수.\n",
        "    \"\"\"\n",
        "    return x - y"
      ],
      "metadata": {
        "id": "JfbN5_z1FRlF"
      },
      "execution_count": 4,
      "outputs": []
    },
    {
      "cell_type": "code",
      "source": [
        "result = subtract(1, 2)\n",
        "result"
      ],
      "metadata": {
        "colab": {
          "base_uri": "https://localhost:8080/"
        },
        "id": "RGZ_rAoMId8M",
        "outputId": "cd16775d-176b-4f9a-d38c-7a4eea5e82ff"
      },
      "execution_count": 5,
      "outputs": [
        {
          "output_type": "execute_result",
          "data": {
            "text/plain": [
              "-1"
            ]
          },
          "metadata": {},
          "execution_count": 5
        }
      ]
    },
    {
      "cell_type": "code",
      "source": [
        "def repeat_message(message, n):\n",
        "    \"\"\"문자열(message)과 양의 정수(n)을 전달받아서, message를 n번 출력하는 함수.\n",
        "    \"\"\"\n",
        "    for _ in range(n):\n",
        "        print(message)\n",
        "\n",
        "    return None\n",
        "    # 리턴 값이 없으면 보통 return문을 생략하지만, return None으로 명시하기도 함."
      ],
      "metadata": {
        "id": "_9kN7_YcJPSj"
      },
      "execution_count": 9,
      "outputs": []
    },
    {
      "cell_type": "code",
      "source": [
        "result = repeat_message('ㅎㅇ', 2)\n",
        "result"
      ],
      "metadata": {
        "colab": {
          "base_uri": "https://localhost:8080/"
        },
        "id": "Et5hHWVBJjTT",
        "outputId": "f50b3155-ea24-46e3-faf3-ecd48af6cc8f"
      },
      "execution_count": 11,
      "outputs": [
        {
          "output_type": "stream",
          "name": "stdout",
          "text": [
            "ㅎㅇ\n",
            "ㅎㅇ\n"
          ]
        }
      ]
    },
    {
      "cell_type": "markdown",
      "source": [
        "Ex 1.\n",
        "\n",
        "  * 함수 이름:make_list\n",
        "  * 기능: start 이상 end 미만의 정수 난수 n개를 갖는 리스트를 반환하는 함수."
      ],
      "metadata": {
        "id": "J_BLu7RmM0Qq"
      }
    },
    {
      "cell_type": "code",
      "source": [
        "import random\n",
        "\n",
        "def make_list(start, end, n):\n",
        "    numbers = [random.randrange(start, end) for x in range(n)]\n",
        "\n",
        "    return numbers"
      ],
      "metadata": {
        "id": "LPAt1SvNMzYz"
      },
      "execution_count": 13,
      "outputs": []
    },
    {
      "cell_type": "markdown",
      "source": [
        "Ex 2.\n",
        "\n",
        "* 함수 이름: calc_sum\n",
        "* 기능: 숫자들의 리스트를 전달받아서, 리스트의 모든 원소들의 합을 리턴하는 함수.\n"
      ],
      "metadata": {
        "id": "ge6k0CUgNAfJ"
      }
    },
    {
      "cell_type": "code",
      "source": [
        "def calc_sum(numbers):\n",
        "    total = 0\n",
        "\n",
        "    for num in numbers:\n",
        "        total += num\n",
        "\n",
        "    return total"
      ],
      "metadata": {
        "id": "j4ouLBZ0O8Ip"
      },
      "execution_count": 38,
      "outputs": []
    },
    {
      "cell_type": "markdown",
      "source": [
        "Ex 3.\n",
        "\n",
        "* 함수 이름: calc_mean\n",
        "* 기능: 숫자들의 리스트를 전달받아서, 리스트의 원소들의 평균을 리턴하는 함수."
      ],
      "metadata": {
        "id": "60gC4pRoNOE5"
      }
    },
    {
      "cell_type": "code",
      "source": [
        "def calc_mean(numbers):\n",
        "    total = 0\n",
        "\n",
        "    for num in numbers:\n",
        "        total += num\n",
        "\n",
        "    average = total / len(numbers)\n",
        "\n",
        "    return average"
      ],
      "metadata": {
        "id": "va0b_3DoP23x"
      },
      "execution_count": 45,
      "outputs": []
    },
    {
      "cell_type": "markdown",
      "source": [
        "Ex 4.\n",
        "\n",
        "* 함수 이름: calc_var\n",
        "* 기능: 숫자들의 리스트를 전달받아서, 리스트의 원소들의 분산(variance)을 리턴하는 함수.\n",
        "    * 분산 = (값 - 평균)**2 들의 평균"
      ],
      "metadata": {
        "id": "LmBlfuDbNjDq"
      }
    },
    {
      "cell_type": "code",
      "source": [
        "def calc_var(numbers):\n",
        "\n",
        "    n = len(numbers)\n",
        "    average = sum(numbers) / n   # sum: 총합 구하는 함수\n",
        "    variance = sum((x - average) ** 2 for x in numbers) / n\n",
        "    return variance"
      ],
      "metadata": {
        "id": "NFACuFfpOsWy"
      },
      "execution_count": 51,
      "outputs": []
    },
    {
      "cell_type": "code",
      "source": [
        "numbers = make_list(1, 5, 5)\n",
        "print('리스트: ', numbers)\n",
        "\n",
        "total = calc_sum(numbers)\n",
        "print('총합: ', total)\n",
        "\n",
        "average = calc_mean(numbers)\n",
        "print('평균: ', average)\n",
        "\n",
        "variance = calc_var(numbers)\n",
        "print('분산: ', variance)"
      ],
      "metadata": {
        "colab": {
          "base_uri": "https://localhost:8080/"
        },
        "id": "MTJerMDpOsAB",
        "outputId": "c3555bee-40fb-4bb5-acfe-7032a16665de"
      },
      "execution_count": 55,
      "outputs": [
        {
          "output_type": "stream",
          "name": "stdout",
          "text": [
            "리스트:  [4, 4, 3, 3, 1]\n",
            "총합:  15\n",
            "평균:  3.0\n",
            "분산:  1.2\n"
          ]
        }
      ]
    }
  ]
}