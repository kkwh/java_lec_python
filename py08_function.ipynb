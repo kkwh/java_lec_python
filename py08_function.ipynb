{
  "nbformat": 4,
  "nbformat_minor": 0,
  "metadata": {
    "colab": {
      "provenance": [],
      "authorship_tag": "ABX9TyOrD3RXRTgWtMt28AmICNwX",
      "include_colab_link": true
    },
    "kernelspec": {
      "name": "python3",
      "display_name": "Python 3"
    },
    "language_info": {
      "name": "python"
    }
  },
  "cells": [
    {
      "cell_type": "markdown",
      "metadata": {
        "id": "view-in-github",
        "colab_type": "text"
      },
      "source": [
        "<a href=\"https://colab.research.google.com/github/kkwh/java_lec_python/blob/main/py08_function.ipynb\" target=\"_parent\"><img src=\"https://colab.research.google.com/assets/colab-badge.svg\" alt=\"Open In Colab\"/></a>"
      ]
    },
    {
      "cell_type": "markdown",
      "source": [
        "# 1급 객체(first-class object)로서의 함수\n",
        "\n",
        "* 함수는 변수에 할당할 수 있음.\n",
        "* 함수의 파라미터에 아규먼트로 다른 함수를 전달할 수 있음.\n",
        "  * 함수는 아규먼트가 될 수 있음.\n",
        "* 함수는 다른 함수의 리턴 값이 될 수 있음.\n",
        "* 함수 내부에서 다른 함수를 정의할 수 있음.\n"
      ],
      "metadata": {
        "id": "XBqwvZ21xe3I"
      }
    },
    {
      "cell_type": "markdown",
      "source": [
        "## 함수를 변수에 할당"
      ],
      "metadata": {
        "id": "BWYzig5tyLr5"
      }
    },
    {
      "cell_type": "code",
      "source": [
        "def twice(x):\n",
        "    return 2 * x"
      ],
      "metadata": {
        "id": "dpEbSl5WyQ9v"
      },
      "execution_count": 2,
      "outputs": []
    },
    {
      "cell_type": "code",
      "source": [
        "result = twice(100) # 함수 호출 결과(리턴 값)을 변수에 저장.\n",
        "result"
      ],
      "metadata": {
        "colab": {
          "base_uri": "https://localhost:8080/"
        },
        "id": "Ch7qKMOeyUav",
        "outputId": "3415d43f-b010-4299-cc75-753f50a2d25f"
      },
      "execution_count": 3,
      "outputs": [
        {
          "output_type": "execute_result",
          "data": {
            "text/plain": [
              "200"
            ]
          },
          "metadata": {},
          "execution_count": 3
        }
      ]
    },
    {
      "cell_type": "code",
      "source": [
        "double = twice # 함수 (객체)를 변수에 저장.\n",
        "double"
      ],
      "metadata": {
        "colab": {
          "base_uri": "https://localhost:8080/"
        },
        "id": "CfCWoqp3yoin",
        "outputId": "dfabac4b-fc1a-4441-d880-468f4f638918"
      },
      "execution_count": 4,
      "outputs": [
        {
          "output_type": "execute_result",
          "data": {
            "text/plain": [
              "<function __main__.twice(x)>"
            ]
          },
          "metadata": {},
          "execution_count": 4
        }
      ]
    },
    {
      "cell_type": "markdown",
      "source": [
        "함수를 아규먼트로 사용"
      ],
      "metadata": {
        "id": "biiie2fUzCt5"
      }
    },
    {
      "cell_type": "code",
      "source": [
        "def calculate(x, y, fn):\n",
        "    result = fn(x, y)\n",
        "    return result"
      ],
      "metadata": {
        "id": "d_exAnz4zILH"
      },
      "execution_count": 6,
      "outputs": []
    },
    {
      "cell_type": "code",
      "source": [
        "def plus(x, y):\n",
        "    return x + y"
      ],
      "metadata": {
        "id": "a026ON29zpd2"
      },
      "execution_count": 7,
      "outputs": []
    },
    {
      "cell_type": "code",
      "source": [
        "calculate(1, 2, plus)"
      ],
      "metadata": {
        "colab": {
          "base_uri": "https://localhost:8080/"
        },
        "id": "F9kYBmyrzuiG",
        "outputId": "91692db7-eb74-46f0-b780-97357c8ab5e1"
      },
      "execution_count": 8,
      "outputs": [
        {
          "output_type": "execute_result",
          "data": {
            "text/plain": [
              "3"
            ]
          },
          "metadata": {},
          "execution_count": 8
        }
      ]
    },
    {
      "cell_type": "markdown",
      "source": [
        "# 내부 함수, 함수 리턴"
      ],
      "metadata": {
        "id": "v-9aDrMg1PVd"
      }
    },
    {
      "cell_type": "code",
      "source": [
        "def make_increment(n): # 외부 함수\n",
        "    def add_n(x): # 내부 함수, 지역 함수\n",
        "        return x + n # 내부 함수는 외부 함수의 지역 변수(파라미터)\n",
        "\n",
        "    return add_n"
      ],
      "metadata": {
        "id": "tNM_T1bL1TRm"
      },
      "execution_count": 12,
      "outputs": []
    },
    {
      "cell_type": "code",
      "source": [
        "increase_by_2 = make_increment(2)\n",
        "increase_by_2"
      ],
      "metadata": {
        "colab": {
          "base_uri": "https://localhost:8080/"
        },
        "id": "8E52NGm_2MhF",
        "outputId": "a6bdaf9c-d0c1-4696-8989-79d8e093e6f3"
      },
      "execution_count": 14,
      "outputs": [
        {
          "output_type": "execute_result",
          "data": {
            "text/plain": [
              "<function __main__.make_increment.<locals>.add_n(x)>"
            ]
          },
          "metadata": {},
          "execution_count": 14
        }
      ]
    },
    {
      "cell_type": "code",
      "source": [
        "increase_by_2(100)"
      ],
      "metadata": {
        "colab": {
          "base_uri": "https://localhost:8080/"
        },
        "id": "Ox1NqLw52wcE",
        "outputId": "da421559-cc67-47bc-c27b-eed1c55d1df4"
      },
      "execution_count": 15,
      "outputs": [
        {
          "output_type": "execute_result",
          "data": {
            "text/plain": [
              "102"
            ]
          },
          "metadata": {},
          "execution_count": 15
        }
      ]
    },
    {
      "cell_type": "code",
      "source": [
        "increase_by_10 = make_increment(10)\n",
        "increase_by_10(100)"
      ],
      "metadata": {
        "colab": {
          "base_uri": "https://localhost:8080/"
        },
        "id": "14yJHoVU26yd",
        "outputId": "b438503b-987c-4513-d536-880c928d7e9e"
      },
      "execution_count": 16,
      "outputs": [
        {
          "output_type": "execute_result",
          "data": {
            "text/plain": [
              "110"
            ]
          },
          "metadata": {},
          "execution_count": 16
        }
      ]
    },
    {
      "cell_type": "code",
      "source": [
        "make_increment(5)(100)"
      ],
      "metadata": {
        "colab": {
          "base_uri": "https://localhost:8080/"
        },
        "id": "HF6mFuul4GhE",
        "outputId": "00ba893d-009c-4de3-8c93-627e58c79e93"
      },
      "execution_count": 17,
      "outputs": [
        {
          "output_type": "execute_result",
          "data": {
            "text/plain": [
              "105"
            ]
          },
          "metadata": {},
          "execution_count": 17
        }
      ]
    },
    {
      "cell_type": "markdown",
      "source": [
        "# Lamda expression(람다 표현식)\n",
        "\n",
        "```\n",
        "lamda param1, param2, ...: expression\n",
        "```\n",
        "\n",
        "* 이름이 없는 함수 표기법\n",
        "* 함수 이름 없이 함수의 파라미터 선언과 반환 값 또는 반환 식으로만 함수를 정의하는 방법\n",
        "* 파이썬은 2줄 이상의 문장이 포함된 람다 표현식 문법을 제공하지 않음."
      ],
      "metadata": {
        "id": "EjIxjM9M8ZUj"
      }
    },
    {
      "cell_type": "code",
      "source": [
        "minus = lambda x, y: x - y\n",
        "minus"
      ],
      "metadata": {
        "colab": {
          "base_uri": "https://localhost:8080/"
        },
        "id": "_xrVVq709dZS",
        "outputId": "304524cf-2adf-40dc-fc6b-fdded1cb490d"
      },
      "execution_count": 21,
      "outputs": [
        {
          "output_type": "execute_result",
          "data": {
            "text/plain": [
              "<function __main__.<lambda>(x, y)>"
            ]
          },
          "metadata": {},
          "execution_count": 21
        }
      ]
    },
    {
      "cell_type": "code",
      "source": [
        "minus(1, 2)"
      ],
      "metadata": {
        "colab": {
          "base_uri": "https://localhost:8080/"
        },
        "id": "bRiaECyZ9p86",
        "outputId": "d55230d1-1170-42b3-b6bb-47f5f3902596"
      },
      "execution_count": 25,
      "outputs": [
        {
          "output_type": "execute_result",
          "data": {
            "text/plain": [
              "-1"
            ]
          },
          "metadata": {},
          "execution_count": 25
        }
      ]
    },
    {
      "cell_type": "code",
      "source": [
        "calculate(2, 3, lambda x, y: x * y)"
      ],
      "metadata": {
        "colab": {
          "base_uri": "https://localhost:8080/"
        },
        "id": "mv3QFgzu-YPa",
        "outputId": "d7eebd92-3c0a-423f-ac8b-3427db299a20"
      },
      "execution_count": 26,
      "outputs": [
        {
          "output_type": "execute_result",
          "data": {
            "text/plain": [
              "6"
            ]
          },
          "metadata": {},
          "execution_count": 26
        }
      ]
    },
    {
      "cell_type": "code",
      "source": [
        "calculate(2, 3, lambda x, y: x / y)"
      ],
      "metadata": {
        "colab": {
          "base_uri": "https://localhost:8080/"
        },
        "id": "w2N6IyFE-xHq",
        "outputId": "46beff55-6e71-4792-f8c8-b5d898c6914f"
      },
      "execution_count": 27,
      "outputs": [
        {
          "output_type": "execute_result",
          "data": {
            "text/plain": [
              "0.6666666666666666"
            ]
          },
          "metadata": {},
          "execution_count": 27
        }
      ]
    },
    {
      "cell_type": "markdown",
      "source": [
        "Ex 1. calculate 함수에 2개의 숫자 중에서 더 큰 수를 리턴하는 람다 표현식을 전달"
      ],
      "metadata": {
        "id": "gOSXQKoN_Lsu"
      }
    },
    {
      "cell_type": "code",
      "source": [
        "calculate(7, 10, lambda x, y: x if x > y else y)"
      ],
      "metadata": {
        "colab": {
          "base_uri": "https://localhost:8080/"
        },
        "id": "BpkeKeht_jp6",
        "outputId": "5a3fdc7e-517b-4991-9d70-b116e5921d2d"
      },
      "execution_count": 35,
      "outputs": [
        {
          "output_type": "execute_result",
          "data": {
            "text/plain": [
              "10"
            ]
          },
          "metadata": {},
          "execution_count": 35
        }
      ]
    },
    {
      "cell_type": "markdown",
      "source": [
        "Ex 2. calculate 함수에, 첫번째 아규먼트가 크면 True, 그렇지 않으면 False를 리턴하는 람다 표현식을 전달"
      ],
      "metadata": {
        "id": "a6zTG-DU_cCi"
      }
    },
    {
      "cell_type": "code",
      "source": [
        "calculate(7, 10, lambda x, y: x > y)"
      ],
      "metadata": {
        "colab": {
          "base_uri": "https://localhost:8080/"
        },
        "id": "twY9W9Y7_4XC",
        "outputId": "fc93b181-8166-40c3-a1c1-5672a6546c06"
      },
      "execution_count": 37,
      "outputs": [
        {
          "output_type": "execute_result",
          "data": {
            "text/plain": [
              "False"
            ]
          },
          "metadata": {},
          "execution_count": 37
        }
      ]
    },
    {
      "cell_type": "markdown",
      "source": [
        "## filter 함수\n",
        "조건에 맞는 원소들만 선택."
      ],
      "metadata": {
        "id": "7ULs4liECIBx"
      }
    },
    {
      "cell_type": "code",
      "source": [
        "def my_filter(iterable, fn):\n",
        "\n",
        "    \"\"\"\n",
        "    리스트 iterable의 원소들 중에서 함수 fn의 호출 결과 값이 True인 원소들로만\n",
        "    이루어진 리스트를 리턴.\n",
        "\n",
        "    Param iterable: 리스트.\n",
        "    Param fn: 아규먼트가 1개이고, True/False를 리턴하는 함수.\n",
        "    \"\"\"\n",
        "    return [x for x in iterable if fn(x)]\n",
        "\n",
        "    # result = [] # 필터링된 원소들을 저장할 빈 리스트\n",
        "    # for x in iterable: # 리스트의 원소들을 순서대로 반복하면서,\n",
        "    #     if fn(x): # 그 원소를 함수에게 전달했을 때 True를 리턴하면\n",
        "    #         # 필터링 조건을 만족하면\n",
        "    #         result.append(x)  # 결과 리스트에 필터링된 원소를 추가.\n",
        "\n",
        "    # return result  # 필터링된 결과를 가지고 있는 리스트를 리턴.\n",
        ""
      ],
      "metadata": {
        "id": "BAHXs9d_CMcB"
      },
      "execution_count": 55,
      "outputs": []
    },
    {
      "cell_type": "code",
      "source": [
        "numbers = [1, -2, 3, 4, -5, -6, 7]"
      ],
      "metadata": {
        "id": "sprjPPS_KU49"
      },
      "execution_count": 43,
      "outputs": []
    },
    {
      "cell_type": "code",
      "source": [
        "my_filter(numbers, lambda x: x > 0)"
      ],
      "metadata": {
        "colab": {
          "base_uri": "https://localhost:8080/"
        },
        "id": "GLEOHtFSKeqG",
        "outputId": "803eecf1-cb45-4080-dee5-aee9f32d2b6c"
      },
      "execution_count": 48,
      "outputs": [
        {
          "output_type": "execute_result",
          "data": {
            "text/plain": [
              "[1, 3, 4, 7]"
            ]
          },
          "metadata": {},
          "execution_count": 48
        }
      ]
    },
    {
      "cell_type": "code",
      "source": [
        "my_filter(numbers, lambda x: x % 2 == 0)"
      ],
      "metadata": {
        "colab": {
          "base_uri": "https://localhost:8080/"
        },
        "id": "ZGGrsIV1LXG1",
        "outputId": "c1f611ad-1bea-4ce1-9f4e-ca75d783ed29"
      },
      "execution_count": 47,
      "outputs": [
        {
          "output_type": "execute_result",
          "data": {
            "text/plain": [
              "[-2, 4, -6]"
            ]
          },
          "metadata": {},
          "execution_count": 47
        }
      ]
    },
    {
      "cell_type": "code",
      "source": [
        "strings = ['python', 'java', 'javascript', 'sql']\n",
        "# my_filter 함수를 사용해서 strings에서 5글자 이상인 문자열들만 필터링\n",
        "my_filter(strings, lambda x: len(x) >= 5)"
      ],
      "metadata": {
        "colab": {
          "base_uri": "https://localhost:8080/"
        },
        "id": "IFjewiyZMi1d",
        "outputId": "ff102855-e6fe-4c3d-b706-b9ce8edb6a35"
      },
      "execution_count": 61,
      "outputs": [
        {
          "output_type": "execute_result",
          "data": {
            "text/plain": [
              "['python', 'javascript']"
            ]
          },
          "metadata": {},
          "execution_count": 61
        }
      ]
    },
    {
      "cell_type": "markdown",
      "source": [
        "## map 함수\n",
        "\n",
        "원소들을 규칙에 따라서 다른 값으로 변환."
      ],
      "metadata": {
        "id": "WQqGwh6yOHOE"
      }
    },
    {
      "cell_type": "code",
      "source": [
        "def my_mapper(iterable, fn):\n",
        "    \"\"\"\n",
        "    리스트 iterable의 원소들을 함수 fn의 리턴 값으로 변환한 리스트를 리턴.\n",
        "\n",
        "    Param iterable: 리스트.\n",
        "    Param fn: 아규먼트가 1개이고 리턴 값이 있는 함수.\n",
        "    \"\"\"\n",
        "\n",
        "    return [fn(x) for x in iterable]\n",
        "\n",
        "    # result = []\n",
        "    # for x in iterable:\n",
        "    #     result.append(x)  # 결과 리스트에 필터링된 원소를 추가.\n",
        "    # return result"
      ],
      "metadata": {
        "id": "lPuSqavjONX0"
      },
      "execution_count": 64,
      "outputs": []
    },
    {
      "cell_type": "code",
      "source": [
        "numbers"
      ],
      "metadata": {
        "colab": {
          "base_uri": "https://localhost:8080/"
        },
        "id": "vnsF7Jk3Q3Qc",
        "outputId": "b122292f-8eec-4cd2-f3c7-fefcb8323fa9"
      },
      "execution_count": 68,
      "outputs": [
        {
          "output_type": "execute_result",
          "data": {
            "text/plain": [
              "[1, -2, 3, 4, -5, -6, 7]"
            ]
          },
          "metadata": {},
          "execution_count": 68
        }
      ]
    },
    {
      "cell_type": "code",
      "source": [
        "# 리스트 numbers의 원소들의 제곱으로 이루어진 리스트\n",
        "my_mapper(numbers, lambda x: x*x)"
      ],
      "metadata": {
        "colab": {
          "base_uri": "https://localhost:8080/"
        },
        "id": "2JRbaF9HO2Uj",
        "outputId": "47a2a1cf-9a7a-490b-a94f-f1e025f86db2"
      },
      "execution_count": 71,
      "outputs": [
        {
          "output_type": "execute_result",
          "data": {
            "text/plain": [
              "[1, 4, 9, 16, 25, 36, 49]"
            ]
          },
          "metadata": {},
          "execution_count": 71
        }
      ]
    },
    {
      "cell_type": "code",
      "source": [
        "# 리스트 numbers의 원소가 짝수이면 'even', 홀수이면 'odd'를 저장하는 리스트\n",
        "my_mapper(numbers, lambda x: 'even' if x % 2 == 0 else 'odd')"
      ],
      "metadata": {
        "colab": {
          "base_uri": "https://localhost:8080/"
        },
        "id": "7cfQs5teQaPs",
        "outputId": "afcf79e5-7a53-498f-ea71-992c817b6930"
      },
      "execution_count": 67,
      "outputs": [
        {
          "output_type": "execute_result",
          "data": {
            "text/plain": [
              "['odd', 'even', 'odd', 'even', 'odd', 'even', 'odd']"
            ]
          },
          "metadata": {},
          "execution_count": 67
        }
      ]
    },
    {
      "cell_type": "code",
      "source": [
        "strings"
      ],
      "metadata": {
        "colab": {
          "base_uri": "https://localhost:8080/"
        },
        "id": "KQFCXnmTSU9y",
        "outputId": "65e82655-224a-4c68-a812-cad1c7c8e1d2"
      },
      "execution_count": 73,
      "outputs": [
        {
          "output_type": "execute_result",
          "data": {
            "text/plain": [
              "['python', 'java', 'javascript', 'sql']"
            ]
          },
          "metadata": {},
          "execution_count": 73
        }
      ]
    },
    {
      "cell_type": "code",
      "source": [
        "# strings가 가지고 있는 문자열의 길이들로 이루어진 리스트\n",
        "my_mapper(strings, lambda x: len(x))"
      ],
      "metadata": {
        "colab": {
          "base_uri": "https://localhost:8080/"
        },
        "id": "tAvkqR8TR0Jc",
        "outputId": "86f4ce72-b0a6-418e-d113-72c0462694b3"
      },
      "execution_count": 72,
      "outputs": [
        {
          "output_type": "execute_result",
          "data": {
            "text/plain": [
              "[6, 4, 10, 3]"
            ]
          },
          "metadata": {},
          "execution_count": 72
        }
      ]
    },
    {
      "cell_type": "code",
      "source": [
        "# strings의 문자열들을 모두 대문자로 변환한 리스트"
      ],
      "metadata": {
        "id": "4RhPA3WASAmT"
      },
      "execution_count": null,
      "outputs": []
    },
    {
      "cell_type": "code",
      "source": [
        "my_mapper(strings, lambda x: x.upper())"
      ],
      "metadata": {
        "colab": {
          "base_uri": "https://localhost:8080/"
        },
        "id": "Oqs3K08WSW16",
        "outputId": "04e57069-742d-469d-fd4d-8d6dc3e6d501"
      },
      "execution_count": 78,
      "outputs": [
        {
          "output_type": "execute_result",
          "data": {
            "text/plain": [
              "['PYTHON', 'JAVA', 'JAVASCRIPT', 'SQL']"
            ]
          },
          "metadata": {},
          "execution_count": 78
        }
      ]
    }
  ]
}