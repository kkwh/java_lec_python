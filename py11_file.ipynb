{
  "nbformat": 4,
  "nbformat_minor": 0,
  "metadata": {
    "colab": {
      "provenance": [],
      "mount_file_id": "1tBE815A9OPASLCz-CAnC-XHnn7mE05YL",
      "authorship_tag": "ABX9TyOZvVQ88YKjMlibyfzpH6Or",
      "include_colab_link": true
    },
    "kernelspec": {
      "name": "python3",
      "display_name": "Python 3"
    },
    "language_info": {
      "name": "python"
    }
  },
  "cells": [
    {
      "cell_type": "markdown",
      "metadata": {
        "id": "view-in-github",
        "colab_type": "text"
      },
      "source": [
        "<a href=\"https://colab.research.google.com/github/kkwh/java_lec_python/blob/main/py11_file.ipynb\" target=\"_parent\"><img src=\"https://colab.research.google.com/assets/colab-badge.svg\" alt=\"Open In Colab\"/></a>"
      ]
    },
    {
      "cell_type": "markdown",
      "source": [
        "# 파일쓰기(write)"
      ],
      "metadata": {
        "id": "wRdF4lZ6R_bm"
      }
    },
    {
      "cell_type": "markdown",
      "source": [
        "파일 쓰기 순서:\n",
        "1. 파일 열기(open)\n",
        "1. 파일 내용 쓰기(write)\n",
        "1. 파일 닫기(close)\n",
        "\n",
        "`open(file, mode='rt', ...)`:\n",
        "* file: 폴더(디렉토리)\n",
        "* mode: 파일을 여는 방법(모드).\n",
        "    * r(read): 읽기. 기본값.\n",
        "    * w(write): 쓰기.\n",
        "        * 파일이 있으면 기존 내용이 모두 삭제되고 파일의 처음부터 다시 쓰기 시작.\n",
        "        * 파일이 없으면 새로운 파일을 생성하고 파일 쓰기가 됨.\n",
        "    * a(append): 이어쓰기. 기존 작성된 내용 이후부터 이어서 쓰기.\n",
        "        * 파일이 있으면 기존 파일 뒤에 이어쓰기\n",
        "        * 파일이 없으면 새로운 파일을 생성하고 이어쓰기\n",
        "    * t(text):  텍스트 (읽기/쓰기). 인코딩된 문자열.\n",
        "    * b(binary):  이진 데이터 (읽기/쓰기). 예- 이미지, 동영상, ..."
      ],
      "metadata": {
        "id": "FTEuDlK_SCrr"
      }
    },
    {
      "cell_type": "code",
      "execution_count": null,
      "metadata": {
        "id": "mZXbfGB4Rhci"
      },
      "outputs": [],
      "source": [
        "#1. 파일을 텍스트 쓰기 모드로 open:\n",
        "f = open('test1.txt', mode='wt')\n",
        "\n",
        "#2. 파일 쓰기:\n",
        "f.write('hello, python!\\n')\n",
        "f.write('안녕하세요...\\n')\n",
        "f.write('1234567890\\n')\n",
        "\n",
        "#3. 파일 닫기:\n",
        "f.close()"
      ]
    },
    {
      "cell_type": "code",
      "source": [
        "# with ~ as 구문: 오픈된 리소스(파일)에서 close() 메서드를 자동으로 호출\n",
        "with open('test2.txt', 'wt') as f:\n",
        "    f.write('hello\\n')\n",
        "    f.write('즐거운 월요일\\n')"
      ],
      "metadata": {
        "id": "IgTdCAxWXbRB"
      },
      "execution_count": null,
      "outputs": []
    },
    {
      "cell_type": "markdown",
      "source": [
        "# 파일 읽기"
      ],
      "metadata": {
        "id": "w424-wa7U4si"
      }
    },
    {
      "cell_type": "code",
      "source": [
        "with open('test1.txt', mode='rt') as f:\n",
        "    line = f.readline()\n",
        "    print(line.strip())\n",
        "    # 문자열.strip(): 문자열의 왼쪽과 오른쪽에 있는 공백 문자들(space, tab, 줄바꿈)을 제거.\n",
        "    line = f.readline()\n",
        "    print(line)\n",
        "    line = f.readline()\n",
        "    print(line)"
      ],
      "metadata": {
        "id": "ErjkRfBjdD-g"
      },
      "execution_count": null,
      "outputs": []
    },
    {
      "cell_type": "code",
      "source": [
        "with open('test2.txt', mode='rt') as f:\n",
        "    for line in f:\n",
        "    # 파일의 처음부터 끝까지 readline()을 호출\n",
        "        print(line.strip())"
      ],
      "metadata": {
        "colab": {
          "base_uri": "https://localhost:8080/"
        },
        "id": "RLMDBaVSgKId",
        "outputId": "09535f3b-befe-4f27-9713-77883cb47b9b"
      },
      "execution_count": null,
      "outputs": [
        {
          "output_type": "stream",
          "name": "stdout",
          "text": [
            "hello\n",
            "즐거운 월요일\n"
          ]
        }
      ]
    },
    {
      "cell_type": "markdown",
      "source": [
        "지금까지의 과정은 google colab에서 할당받은 가상머신(개발환경)의 하드디스크에 파일을 쓰고, 파일을 읽는 기능을 수행한 것임.\n",
        "\n",
        "google colab과 연결이 끊어진 후 재연결 (가상머신 재할당)을 하면, 가상 머신의 리소스(RAM, HDD, CPU, ...) 들은 초기화 됨. 저장했던 파일들도 모두 삭제됨.\n",
        "\n",
        "파일을 개인 Google 드라이브에 저장하고 읽은 방법이 제공됨."
      ],
      "metadata": {
        "id": "ZVwUBaDShDt_"
      }
    },
    {
      "cell_type": "markdown",
      "source": [
        "#Colab 가상머신에서 구글 드라이브 연결(Mount)"
      ],
      "metadata": {
        "id": "OgH04ETnjdwE"
      }
    },
    {
      "cell_type": "code",
      "source": [
        "# 구글 드라이브 폴더 경로\n",
        "dir_path = '/content/drive/MyDrive/Colab Notebooks/lab_python'\n",
        "# 저장할 파일 이름\n",
        "file_name = 'test.txt'"
      ],
      "metadata": {
        "id": "YbmDGngNjnc1"
      },
      "execution_count": null,
      "outputs": []
    },
    {
      "cell_type": "code",
      "source": [
        "import os # os 모듈 임포트: os.path.join() 함수 이용하기 위해서"
      ],
      "metadata": {
        "id": "GoS7PUALkCq7"
      },
      "execution_count": null,
      "outputs": []
    },
    {
      "cell_type": "code",
      "source": [
        "file = os.path.join(dir_path, file_name)\n",
        "file"
      ],
      "metadata": {
        "colab": {
          "base_uri": "https://localhost:8080/",
          "height": 35
        },
        "id": "gHVyRlifkP1k",
        "outputId": "a98bda9e-c0a5-4205-f6e8-d3bb4f34dc51"
      },
      "execution_count": null,
      "outputs": [
        {
          "output_type": "execute_result",
          "data": {
            "text/plain": [
              "'/content/drive/MyDrive/Colab Notebooks/lab_python/test.txt'"
            ],
            "application/vnd.google.colaboratory.intrinsic+json": {
              "type": "string"
            }
          },
          "metadata": {},
          "execution_count": 20
        }
      ]
    },
    {
      "cell_type": "code",
      "source": [
        "with open(file, mode='wt') as f:\n",
        "    f.write('admin@test.com\\n')\n",
        "    f.write('test@itwill.co.kr\\n')\n",
        "    f.write('jake@gamil.com\\n')"
      ],
      "metadata": {
        "id": "Nd_HWM7WkX6L"
      },
      "execution_count": null,
      "outputs": []
    },
    {
      "cell_type": "code",
      "source": [
        "with open(file, mode='rt') as f:\n",
        "    for line in f:\n",
        "        print(line.strip())"
      ],
      "metadata": {
        "id": "6YRCxoFLlSdA"
      },
      "execution_count": null,
      "outputs": []
    }
  ]
}