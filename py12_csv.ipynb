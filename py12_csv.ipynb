{
  "nbformat": 4,
  "nbformat_minor": 0,
  "metadata": {
    "colab": {
      "provenance": [],
      "mount_file_id": "1oZTg3ynn7sPyWpz7G7kTWye6k4ed6sPg",
      "authorship_tag": "ABX9TyOOn0TtCe1y46DQPXyfcZa0",
      "include_colab_link": true
    },
    "kernelspec": {
      "name": "python3",
      "display_name": "Python 3"
    },
    "language_info": {
      "name": "python"
    }
  },
  "cells": [
    {
      "cell_type": "markdown",
      "metadata": {
        "id": "view-in-github",
        "colab_type": "text"
      },
      "source": [
        "<a href=\"https://colab.research.google.com/github/kkwh/java_lec_python/blob/main/py12_csv.ipynb\" target=\"_parent\"><img src=\"https://colab.research.google.com/assets/colab-badge.svg\" alt=\"Open In Colab\"/></a>"
      ]
    },
    {
      "cell_type": "markdown",
      "source": [
        "CSV(Comma-Separated Values) 파일: 쉼표(,)로 값들이 구분된 텍스트 파일.\n"
      ],
      "metadata": {
        "id": "S88IWEe5qIy5"
      }
    },
    {
      "cell_type": "markdown",
      "source": [
        "* Colab 연결(가상 머신 할당)\n",
        "* Colab에서 Google Drive를 마운트(연결)\n",
        "* Google Drive의 'Colab Notebooks/lab_python' 폴더에 csv_exam.csv 파일을 업로드\n",
        "\n",
        "1. csv_exam.csv 파일을 읽기 모드로 open.\n",
        "2. 파일의 첫번째 줄은 컬럼 이름이기 때문에 읽고 추가 작업 없이 건너뜀.\n",
        "3. 파일의 두번째 줄부터 마지막 줄까지 한 줄씩 읽으면서 반복:\n",
        "    * 각 줄에서 읽은 내용을 쉼표(,)로 구분한 리스트들을 저장하는 리스트를 만듦.\n",
        "    * `[['1', '1', '50', '98'. '50'], ['2', '1', '60', '97'. '60'], ...]`\n",
        "1. 위에서 만들어진 2차원 리스트의 모든 값들을 숫자로 변환.\n",
        "1. 2차원 숫자 리스트에서 수학 점수들로만 이루어진 1차원 리스트를 만듦.\n",
        "1. 수학 점수의 평균, 최댓값, 최솟값을 찾음.\n",
        "1. 1반(class=1) 학생들의 수학 점수의 총점, 평균, 최댓값, 최소값을 찾음."
      ],
      "metadata": {
        "id": "A1LbM1FbqWA6"
      }
    },
    {
      "cell_type": "code",
      "source": [
        "file = '/content/drive/MyDrive/Colab Notebooks/lab_python'"
      ],
      "metadata": {
        "id": "ZmaTshdnH2SP"
      },
      "execution_count": null,
      "outputs": []
    },
    {
      "cell_type": "code",
      "source": [
        "data_list = []  # 리스트 초기화\n",
        "math_scores = []  # 수학 점수로 이루어진 1차원 리스트\n",
        "\n",
        "\n",
        "with open('csv_exam.csv', mode='rt') as f:\n",
        "    for i, line in enumerate(f):\n",
        "        if i == 0:  # 첫 번째 줄 건너뛰기\n",
        "            continue\n",
        "        if\n",
        "\n",
        "        line = line.strip()  # 줄바꿈 문자 제거\n",
        "        items = line.split(',')  # 쉼표(,)로 분할하여 리스트로 변환\n",
        "\n",
        "        numbers = [int(item) for item in items]  # 정수로 변환\n",
        "\n",
        "        data_list.append(numbers)  # 분할된 리스트를 데이터 리스트에 추가\n",
        "\n",
        "# 수학 점수로 이루어진 1차원 리스트 생성\n",
        "for row in data_list:\n",
        "    math_score = row[2]  # 수학 점수는 각 리스트의 3번째 인덱스\n",
        "    math_scores.append(math_score)\n",
        "\n",
        "\n",
        "    if row[1] == 1:  # 2번째 인덱스가 1인 리스트를 찾기 위한 조건\n",
        "            math_scores.append(row[2])  # 해당 리스트의 3번째 인덱스인 수학 점수를 추가\n",
        "\n",
        "    total = sum(math_scores)  # 총점 계산\n",
        "    average = total / len(math_scores)  # 평균 계산\n",
        "    maximum = max(math_scores)  # 최댓값 계산\n",
        "    minimum = min(math_scores)  # 최솟값 계산\n",
        "\n",
        "print(\"총점:\", total)\n",
        "print(\"평균:\", average)\n",
        "print(\"최댓값:\", maximum)\n",
        "print(\"최솟값:\", minimum)\n",
        "\n",
        "\n",
        "print(math_scores)\n"
      ],
      "metadata": {
        "colab": {
          "base_uri": "https://localhost:8080/"
        },
        "id": "pN3fb3jMsddn",
        "outputId": "c607ce49-77bd-4a95-de1f-d8e82984aa6e"
      },
      "execution_count": null,
      "outputs": [
        {
          "output_type": "stream",
          "name": "stdout",
          "text": [
            "[50, 60, 45, 30, 25, 50, 80, 90, 20, 50, 65, 45, 46, 48, 75, 58, 65, 80, 89, 78]\n"
          ]
        }
      ]
    }
  ]
}